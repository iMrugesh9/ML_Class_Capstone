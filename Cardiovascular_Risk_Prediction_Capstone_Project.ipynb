{
  "nbformat": 4,
  "nbformat_minor": 0,
  "metadata": {
    "colab": {
      "name": "Cardiovascular Risk Prediction Capstone Project.ipynb",
      "provenance": [],
      "collapsed_sections": [],
      "authorship_tag": "ABX9TyOyLL6H+n9GFpCFmuiVX1le",
      "include_colab_link": true
    },
    "kernelspec": {
      "name": "python3",
      "display_name": "Python 3"
    },
    "language_info": {
      "name": "python"
    }
  },
  "cells": [
    {
      "cell_type": "markdown",
      "metadata": {
        "id": "view-in-github",
        "colab_type": "text"
      },
      "source": [
        "<a href=\"https://colab.research.google.com/github/iMrugesh9/ML_Class_Capstone/blob/main/Cardiovascular_Risk_Prediction_Capstone_Project.ipynb\" target=\"_parent\"><img src=\"https://colab.research.google.com/assets/colab-badge.svg\" alt=\"Open In Colab\"/></a>"
      ]
    },
    {
      "cell_type": "markdown",
      "source": [
        "## Start"
      ],
      "metadata": {
        "id": "vUJR9MHiDmRR"
      }
    },
    {
      "cell_type": "code",
      "source": [
        "# !pip install datawig\n",
        "# !pip install scikit-learn==0.23.1\n",
        "# !pip install imbalanced-learn==0.7.0\n",
        "import datawig\n"
      ],
      "metadata": {
        "id": "0XS5wDBm--E2"
      },
      "execution_count": 1,
      "outputs": []
    },
    {
      "cell_type": "code",
      "source": [
        "import numpy as np\n",
        "import pandas as pd\n",
        "import matplotlib.pyplot as plt\n",
        "import seaborn as sns\n",
        "from scipy import stats\n",
        "import warnings\n",
        "warnings.filterwarnings('ignore')\n",
        "\n",
        "from numpy import math\n",
        "from scipy.stats import zscore\n",
        "from sklearn.preprocessing import MinMaxScaler\n",
        "from sklearn.model_selection import train_test_split\n"
      ],
      "metadata": {
        "id": "38gnhMr_css3"
      },
      "execution_count": 2,
      "outputs": []
    },
    {
      "cell_type": "markdown",
      "source": [
        "# New Section"
      ],
      "metadata": {
        "id": "TFbSmZE4yjmt"
      }
    },
    {
      "cell_type": "code",
      "source": [
        "from google.colab import drive\n",
        "drive.mount('/content/drive')      "
      ],
      "metadata": {
        "colab": {
          "base_uri": "https://localhost:8080/"
        },
        "id": "5qpkaTQ2csLe",
        "outputId": "6806339c-c299-40ad-8dbf-1ed8185182de"
      },
      "execution_count": 3,
      "outputs": [
        {
          "output_type": "stream",
          "name": "stdout",
          "text": [
            "Drive already mounted at /content/drive; to attempt to forcibly remount, call drive.mount(\"/content/drive\", force_remount=True).\n"
          ]
        }
      ]
    },
    {
      "cell_type": "code",
      "source": [
        "Dataset=pd.read_csv('/content/drive/MyDrive/Datasets/data_cardiovascular_risk.csv')"
      ],
      "metadata": {
        "id": "ar8CE1HzdoV5"
      },
      "execution_count": 4,
      "outputs": []
    },
    {
      "cell_type": "code",
      "source": [
        "Dataset"
      ],
      "metadata": {
        "colab": {
          "base_uri": "https://localhost:8080/",
          "height": 487
        },
        "id": "pMtD8wSVd0MC",
        "outputId": "d50cb6bc-3dd1-4c28-b843-b7e48ac78559"
      },
      "execution_count": 5,
      "outputs": [
        {
          "output_type": "execute_result",
          "data": {
            "text/plain": [
              "        id  age  education sex is_smoking  cigsPerDay  BPMeds  \\\n",
              "0        0   64        2.0   F        YES         3.0     0.0   \n",
              "1        1   36        4.0   M         NO         0.0     0.0   \n",
              "2        2   46        1.0   F        YES        10.0     0.0   \n",
              "3        3   50        1.0   M        YES        20.0     0.0   \n",
              "4        4   64        1.0   F        YES        30.0     0.0   \n",
              "...    ...  ...        ...  ..        ...         ...     ...   \n",
              "3385  3385   60        1.0   F         NO         0.0     0.0   \n",
              "3386  3386   46        1.0   F         NO         0.0     0.0   \n",
              "3387  3387   44        3.0   M        YES         3.0     0.0   \n",
              "3388  3388   60        1.0   M         NO         0.0     NaN   \n",
              "3389  3389   54        3.0   F         NO         0.0     0.0   \n",
              "\n",
              "      prevalentStroke  prevalentHyp  diabetes  totChol  sysBP  diaBP    BMI  \\\n",
              "0                   0             0         0    221.0  148.0   85.0    NaN   \n",
              "1                   0             1         0    212.0  168.0   98.0  29.77   \n",
              "2                   0             0         0    250.0  116.0   71.0  20.35   \n",
              "3                   0             1         0    233.0  158.0   88.0  28.26   \n",
              "4                   0             0         0    241.0  136.5   85.0  26.42   \n",
              "...               ...           ...       ...      ...    ...    ...    ...   \n",
              "3385                0             0         0    261.0  123.5   79.0  29.28   \n",
              "3386                0             0         0    199.0  102.0   56.0  21.96   \n",
              "3387                0             1         0    352.0  164.0  119.0  28.92   \n",
              "3388                0             1         0    191.0  167.0  105.0  23.01   \n",
              "3389                0             0         0    288.0  124.0   77.0  29.88   \n",
              "\n",
              "      heartRate  glucose  TenYearCHD  \n",
              "0          90.0     80.0           1  \n",
              "1          72.0     75.0           0  \n",
              "2          88.0     94.0           0  \n",
              "3          68.0     94.0           1  \n",
              "4          70.0     77.0           0  \n",
              "...         ...      ...         ...  \n",
              "3385       70.0    103.0           0  \n",
              "3386       80.0     84.0           0  \n",
              "3387       73.0     72.0           1  \n",
              "3388       80.0     85.0           0  \n",
              "3389       79.0     92.0           0  \n",
              "\n",
              "[3390 rows x 17 columns]"
            ],
            "text/html": [
              "\n",
              "  <div id=\"df-194f2e57-44a6-4d97-a612-a888b3ca8c31\">\n",
              "    <div class=\"colab-df-container\">\n",
              "      <div>\n",
              "<style scoped>\n",
              "    .dataframe tbody tr th:only-of-type {\n",
              "        vertical-align: middle;\n",
              "    }\n",
              "\n",
              "    .dataframe tbody tr th {\n",
              "        vertical-align: top;\n",
              "    }\n",
              "\n",
              "    .dataframe thead th {\n",
              "        text-align: right;\n",
              "    }\n",
              "</style>\n",
              "<table border=\"1\" class=\"dataframe\">\n",
              "  <thead>\n",
              "    <tr style=\"text-align: right;\">\n",
              "      <th></th>\n",
              "      <th>id</th>\n",
              "      <th>age</th>\n",
              "      <th>education</th>\n",
              "      <th>sex</th>\n",
              "      <th>is_smoking</th>\n",
              "      <th>cigsPerDay</th>\n",
              "      <th>BPMeds</th>\n",
              "      <th>prevalentStroke</th>\n",
              "      <th>prevalentHyp</th>\n",
              "      <th>diabetes</th>\n",
              "      <th>totChol</th>\n",
              "      <th>sysBP</th>\n",
              "      <th>diaBP</th>\n",
              "      <th>BMI</th>\n",
              "      <th>heartRate</th>\n",
              "      <th>glucose</th>\n",
              "      <th>TenYearCHD</th>\n",
              "    </tr>\n",
              "  </thead>\n",
              "  <tbody>\n",
              "    <tr>\n",
              "      <th>0</th>\n",
              "      <td>0</td>\n",
              "      <td>64</td>\n",
              "      <td>2.0</td>\n",
              "      <td>F</td>\n",
              "      <td>YES</td>\n",
              "      <td>3.0</td>\n",
              "      <td>0.0</td>\n",
              "      <td>0</td>\n",
              "      <td>0</td>\n",
              "      <td>0</td>\n",
              "      <td>221.0</td>\n",
              "      <td>148.0</td>\n",
              "      <td>85.0</td>\n",
              "      <td>NaN</td>\n",
              "      <td>90.0</td>\n",
              "      <td>80.0</td>\n",
              "      <td>1</td>\n",
              "    </tr>\n",
              "    <tr>\n",
              "      <th>1</th>\n",
              "      <td>1</td>\n",
              "      <td>36</td>\n",
              "      <td>4.0</td>\n",
              "      <td>M</td>\n",
              "      <td>NO</td>\n",
              "      <td>0.0</td>\n",
              "      <td>0.0</td>\n",
              "      <td>0</td>\n",
              "      <td>1</td>\n",
              "      <td>0</td>\n",
              "      <td>212.0</td>\n",
              "      <td>168.0</td>\n",
              "      <td>98.0</td>\n",
              "      <td>29.77</td>\n",
              "      <td>72.0</td>\n",
              "      <td>75.0</td>\n",
              "      <td>0</td>\n",
              "    </tr>\n",
              "    <tr>\n",
              "      <th>2</th>\n",
              "      <td>2</td>\n",
              "      <td>46</td>\n",
              "      <td>1.0</td>\n",
              "      <td>F</td>\n",
              "      <td>YES</td>\n",
              "      <td>10.0</td>\n",
              "      <td>0.0</td>\n",
              "      <td>0</td>\n",
              "      <td>0</td>\n",
              "      <td>0</td>\n",
              "      <td>250.0</td>\n",
              "      <td>116.0</td>\n",
              "      <td>71.0</td>\n",
              "      <td>20.35</td>\n",
              "      <td>88.0</td>\n",
              "      <td>94.0</td>\n",
              "      <td>0</td>\n",
              "    </tr>\n",
              "    <tr>\n",
              "      <th>3</th>\n",
              "      <td>3</td>\n",
              "      <td>50</td>\n",
              "      <td>1.0</td>\n",
              "      <td>M</td>\n",
              "      <td>YES</td>\n",
              "      <td>20.0</td>\n",
              "      <td>0.0</td>\n",
              "      <td>0</td>\n",
              "      <td>1</td>\n",
              "      <td>0</td>\n",
              "      <td>233.0</td>\n",
              "      <td>158.0</td>\n",
              "      <td>88.0</td>\n",
              "      <td>28.26</td>\n",
              "      <td>68.0</td>\n",
              "      <td>94.0</td>\n",
              "      <td>1</td>\n",
              "    </tr>\n",
              "    <tr>\n",
              "      <th>4</th>\n",
              "      <td>4</td>\n",
              "      <td>64</td>\n",
              "      <td>1.0</td>\n",
              "      <td>F</td>\n",
              "      <td>YES</td>\n",
              "      <td>30.0</td>\n",
              "      <td>0.0</td>\n",
              "      <td>0</td>\n",
              "      <td>0</td>\n",
              "      <td>0</td>\n",
              "      <td>241.0</td>\n",
              "      <td>136.5</td>\n",
              "      <td>85.0</td>\n",
              "      <td>26.42</td>\n",
              "      <td>70.0</td>\n",
              "      <td>77.0</td>\n",
              "      <td>0</td>\n",
              "    </tr>\n",
              "    <tr>\n",
              "      <th>...</th>\n",
              "      <td>...</td>\n",
              "      <td>...</td>\n",
              "      <td>...</td>\n",
              "      <td>...</td>\n",
              "      <td>...</td>\n",
              "      <td>...</td>\n",
              "      <td>...</td>\n",
              "      <td>...</td>\n",
              "      <td>...</td>\n",
              "      <td>...</td>\n",
              "      <td>...</td>\n",
              "      <td>...</td>\n",
              "      <td>...</td>\n",
              "      <td>...</td>\n",
              "      <td>...</td>\n",
              "      <td>...</td>\n",
              "      <td>...</td>\n",
              "    </tr>\n",
              "    <tr>\n",
              "      <th>3385</th>\n",
              "      <td>3385</td>\n",
              "      <td>60</td>\n",
              "      <td>1.0</td>\n",
              "      <td>F</td>\n",
              "      <td>NO</td>\n",
              "      <td>0.0</td>\n",
              "      <td>0.0</td>\n",
              "      <td>0</td>\n",
              "      <td>0</td>\n",
              "      <td>0</td>\n",
              "      <td>261.0</td>\n",
              "      <td>123.5</td>\n",
              "      <td>79.0</td>\n",
              "      <td>29.28</td>\n",
              "      <td>70.0</td>\n",
              "      <td>103.0</td>\n",
              "      <td>0</td>\n",
              "    </tr>\n",
              "    <tr>\n",
              "      <th>3386</th>\n",
              "      <td>3386</td>\n",
              "      <td>46</td>\n",
              "      <td>1.0</td>\n",
              "      <td>F</td>\n",
              "      <td>NO</td>\n",
              "      <td>0.0</td>\n",
              "      <td>0.0</td>\n",
              "      <td>0</td>\n",
              "      <td>0</td>\n",
              "      <td>0</td>\n",
              "      <td>199.0</td>\n",
              "      <td>102.0</td>\n",
              "      <td>56.0</td>\n",
              "      <td>21.96</td>\n",
              "      <td>80.0</td>\n",
              "      <td>84.0</td>\n",
              "      <td>0</td>\n",
              "    </tr>\n",
              "    <tr>\n",
              "      <th>3387</th>\n",
              "      <td>3387</td>\n",
              "      <td>44</td>\n",
              "      <td>3.0</td>\n",
              "      <td>M</td>\n",
              "      <td>YES</td>\n",
              "      <td>3.0</td>\n",
              "      <td>0.0</td>\n",
              "      <td>0</td>\n",
              "      <td>1</td>\n",
              "      <td>0</td>\n",
              "      <td>352.0</td>\n",
              "      <td>164.0</td>\n",
              "      <td>119.0</td>\n",
              "      <td>28.92</td>\n",
              "      <td>73.0</td>\n",
              "      <td>72.0</td>\n",
              "      <td>1</td>\n",
              "    </tr>\n",
              "    <tr>\n",
              "      <th>3388</th>\n",
              "      <td>3388</td>\n",
              "      <td>60</td>\n",
              "      <td>1.0</td>\n",
              "      <td>M</td>\n",
              "      <td>NO</td>\n",
              "      <td>0.0</td>\n",
              "      <td>NaN</td>\n",
              "      <td>0</td>\n",
              "      <td>1</td>\n",
              "      <td>0</td>\n",
              "      <td>191.0</td>\n",
              "      <td>167.0</td>\n",
              "      <td>105.0</td>\n",
              "      <td>23.01</td>\n",
              "      <td>80.0</td>\n",
              "      <td>85.0</td>\n",
              "      <td>0</td>\n",
              "    </tr>\n",
              "    <tr>\n",
              "      <th>3389</th>\n",
              "      <td>3389</td>\n",
              "      <td>54</td>\n",
              "      <td>3.0</td>\n",
              "      <td>F</td>\n",
              "      <td>NO</td>\n",
              "      <td>0.0</td>\n",
              "      <td>0.0</td>\n",
              "      <td>0</td>\n",
              "      <td>0</td>\n",
              "      <td>0</td>\n",
              "      <td>288.0</td>\n",
              "      <td>124.0</td>\n",
              "      <td>77.0</td>\n",
              "      <td>29.88</td>\n",
              "      <td>79.0</td>\n",
              "      <td>92.0</td>\n",
              "      <td>0</td>\n",
              "    </tr>\n",
              "  </tbody>\n",
              "</table>\n",
              "<p>3390 rows × 17 columns</p>\n",
              "</div>\n",
              "      <button class=\"colab-df-convert\" onclick=\"convertToInteractive('df-194f2e57-44a6-4d97-a612-a888b3ca8c31')\"\n",
              "              title=\"Convert this dataframe to an interactive table.\"\n",
              "              style=\"display:none;\">\n",
              "        \n",
              "  <svg xmlns=\"http://www.w3.org/2000/svg\" height=\"24px\"viewBox=\"0 0 24 24\"\n",
              "       width=\"24px\">\n",
              "    <path d=\"M0 0h24v24H0V0z\" fill=\"none\"/>\n",
              "    <path d=\"M18.56 5.44l.94 2.06.94-2.06 2.06-.94-2.06-.94-.94-2.06-.94 2.06-2.06.94zm-11 1L8.5 8.5l.94-2.06 2.06-.94-2.06-.94L8.5 2.5l-.94 2.06-2.06.94zm10 10l.94 2.06.94-2.06 2.06-.94-2.06-.94-.94-2.06-.94 2.06-2.06.94z\"/><path d=\"M17.41 7.96l-1.37-1.37c-.4-.4-.92-.59-1.43-.59-.52 0-1.04.2-1.43.59L10.3 9.45l-7.72 7.72c-.78.78-.78 2.05 0 2.83L4 21.41c.39.39.9.59 1.41.59.51 0 1.02-.2 1.41-.59l7.78-7.78 2.81-2.81c.8-.78.8-2.07 0-2.86zM5.41 20L4 18.59l7.72-7.72 1.47 1.35L5.41 20z\"/>\n",
              "  </svg>\n",
              "      </button>\n",
              "      \n",
              "  <style>\n",
              "    .colab-df-container {\n",
              "      display:flex;\n",
              "      flex-wrap:wrap;\n",
              "      gap: 12px;\n",
              "    }\n",
              "\n",
              "    .colab-df-convert {\n",
              "      background-color: #E8F0FE;\n",
              "      border: none;\n",
              "      border-radius: 50%;\n",
              "      cursor: pointer;\n",
              "      display: none;\n",
              "      fill: #1967D2;\n",
              "      height: 32px;\n",
              "      padding: 0 0 0 0;\n",
              "      width: 32px;\n",
              "    }\n",
              "\n",
              "    .colab-df-convert:hover {\n",
              "      background-color: #E2EBFA;\n",
              "      box-shadow: 0px 1px 2px rgba(60, 64, 67, 0.3), 0px 1px 3px 1px rgba(60, 64, 67, 0.15);\n",
              "      fill: #174EA6;\n",
              "    }\n",
              "\n",
              "    [theme=dark] .colab-df-convert {\n",
              "      background-color: #3B4455;\n",
              "      fill: #D2E3FC;\n",
              "    }\n",
              "\n",
              "    [theme=dark] .colab-df-convert:hover {\n",
              "      background-color: #434B5C;\n",
              "      box-shadow: 0px 1px 3px 1px rgba(0, 0, 0, 0.15);\n",
              "      filter: drop-shadow(0px 1px 2px rgba(0, 0, 0, 0.3));\n",
              "      fill: #FFFFFF;\n",
              "    }\n",
              "  </style>\n",
              "\n",
              "      <script>\n",
              "        const buttonEl =\n",
              "          document.querySelector('#df-194f2e57-44a6-4d97-a612-a888b3ca8c31 button.colab-df-convert');\n",
              "        buttonEl.style.display =\n",
              "          google.colab.kernel.accessAllowed ? 'block' : 'none';\n",
              "\n",
              "        async function convertToInteractive(key) {\n",
              "          const element = document.querySelector('#df-194f2e57-44a6-4d97-a612-a888b3ca8c31');\n",
              "          const dataTable =\n",
              "            await google.colab.kernel.invokeFunction('convertToInteractive',\n",
              "                                                     [key], {});\n",
              "          if (!dataTable) return;\n",
              "\n",
              "          const docLinkHtml = 'Like what you see? Visit the ' +\n",
              "            '<a target=\"_blank\" href=https://colab.research.google.com/notebooks/data_table.ipynb>data table notebook</a>'\n",
              "            + ' to learn more about interactive tables.';\n",
              "          element.innerHTML = '';\n",
              "          dataTable['output_type'] = 'display_data';\n",
              "          await google.colab.output.renderOutput(dataTable, element);\n",
              "          const docLink = document.createElement('div');\n",
              "          docLink.innerHTML = docLinkHtml;\n",
              "          element.appendChild(docLink);\n",
              "        }\n",
              "      </script>\n",
              "    </div>\n",
              "  </div>\n",
              "  "
            ]
          },
          "metadata": {},
          "execution_count": 5
        }
      ]
    },
    {
      "cell_type": "code",
      "source": [
        "Dataset.info()"
      ],
      "metadata": {
        "colab": {
          "base_uri": "https://localhost:8080/"
        },
        "id": "bqNe8sr3fcIP",
        "outputId": "a3f04830-4f01-4859-a87a-e251537fd796"
      },
      "execution_count": 6,
      "outputs": [
        {
          "output_type": "stream",
          "name": "stdout",
          "text": [
            "<class 'pandas.core.frame.DataFrame'>\n",
            "RangeIndex: 3390 entries, 0 to 3389\n",
            "Data columns (total 17 columns):\n",
            "id                 3390 non-null int64\n",
            "age                3390 non-null int64\n",
            "education          3303 non-null float64\n",
            "sex                3390 non-null object\n",
            "is_smoking         3390 non-null object\n",
            "cigsPerDay         3368 non-null float64\n",
            "BPMeds             3346 non-null float64\n",
            "prevalentStroke    3390 non-null int64\n",
            "prevalentHyp       3390 non-null int64\n",
            "diabetes           3390 non-null int64\n",
            "totChol            3352 non-null float64\n",
            "sysBP              3390 non-null float64\n",
            "diaBP              3390 non-null float64\n",
            "BMI                3376 non-null float64\n",
            "heartRate          3389 non-null float64\n",
            "glucose            3086 non-null float64\n",
            "TenYearCHD         3390 non-null int64\n",
            "dtypes: float64(9), int64(6), object(2)\n",
            "memory usage: 450.4+ KB\n"
          ]
        }
      ]
    },
    {
      "cell_type": "code",
      "source": [
        "# Target Variable\n",
        "Dataset.TenYearCHD.value_counts()"
      ],
      "metadata": {
        "colab": {
          "base_uri": "https://localhost:8080/"
        },
        "id": "3omAGkDFJQ5D",
        "outputId": "932cfae2-f3d6-464f-d5ad-98396bbb0e41"
      },
      "execution_count": 7,
      "outputs": [
        {
          "output_type": "execute_result",
          "data": {
            "text/plain": [
              "0    2879\n",
              "1     511\n",
              "Name: TenYearCHD, dtype: int64"
            ]
          },
          "metadata": {},
          "execution_count": 7
        }
      ]
    },
    {
      "cell_type": "markdown",
      "source": [
        "As there is imbalance in traget variable, resampling must be done on train dataset (SMOTE) +Tree based Algo can work better"
      ],
      "metadata": {
        "id": "ftPMmHYOJauu"
      }
    },
    {
      "cell_type": "code",
      "source": [
        "Dataset.describe(include='all')"
      ],
      "metadata": {
        "colab": {
          "base_uri": "https://localhost:8080/",
          "height": 458
        },
        "id": "mWEZgBpwfwEF",
        "outputId": "c7d6bf4b-386f-4298-b274-68b30c30f605"
      },
      "execution_count": 8,
      "outputs": [
        {
          "output_type": "execute_result",
          "data": {
            "text/plain": [
              "                 id          age    education   sex is_smoking   cigsPerDay  \\\n",
              "count   3390.000000  3390.000000  3303.000000  3390       3390  3368.000000   \n",
              "unique          NaN          NaN          NaN     2          2          NaN   \n",
              "top             NaN          NaN          NaN     F         NO          NaN   \n",
              "freq            NaN          NaN          NaN  1923       1703          NaN   \n",
              "mean    1694.500000    49.542183     1.970936   NaN        NaN     9.069477   \n",
              "std      978.753033     8.592878     1.019081   NaN        NaN    11.879078   \n",
              "min        0.000000    32.000000     1.000000   NaN        NaN     0.000000   \n",
              "25%      847.250000    42.000000     1.000000   NaN        NaN     0.000000   \n",
              "50%     1694.500000    49.000000     2.000000   NaN        NaN     0.000000   \n",
              "75%     2541.750000    56.000000     3.000000   NaN        NaN    20.000000   \n",
              "max     3389.000000    70.000000     4.000000   NaN        NaN    70.000000   \n",
              "\n",
              "             BPMeds  prevalentStroke  prevalentHyp     diabetes      totChol  \\\n",
              "count   3346.000000      3390.000000   3390.000000  3390.000000  3352.000000   \n",
              "unique          NaN              NaN           NaN          NaN          NaN   \n",
              "top             NaN              NaN           NaN          NaN          NaN   \n",
              "freq            NaN              NaN           NaN          NaN          NaN   \n",
              "mean       0.029886         0.006490      0.315339     0.025664   237.074284   \n",
              "std        0.170299         0.080309      0.464719     0.158153    45.247430   \n",
              "min        0.000000         0.000000      0.000000     0.000000   107.000000   \n",
              "25%        0.000000         0.000000      0.000000     0.000000   206.000000   \n",
              "50%        0.000000         0.000000      0.000000     0.000000   234.000000   \n",
              "75%        0.000000         0.000000      1.000000     0.000000   264.000000   \n",
              "max        1.000000         1.000000      1.000000     1.000000   696.000000   \n",
              "\n",
              "             sysBP        diaBP          BMI    heartRate      glucose  \\\n",
              "count   3390.00000  3390.000000  3376.000000  3389.000000  3086.000000   \n",
              "unique         NaN          NaN          NaN          NaN          NaN   \n",
              "top            NaN          NaN          NaN          NaN          NaN   \n",
              "freq           NaN          NaN          NaN          NaN          NaN   \n",
              "mean     132.60118    82.883038    25.794964    75.977279    82.086520   \n",
              "std       22.29203    12.023581     4.115449    11.971868    24.244753   \n",
              "min       83.50000    48.000000    15.960000    45.000000    40.000000   \n",
              "25%      117.00000    74.500000    23.020000    68.000000    71.000000   \n",
              "50%      128.50000    82.000000    25.380000    75.000000    78.000000   \n",
              "75%      144.00000    90.000000    28.040000    83.000000    87.000000   \n",
              "max      295.00000   142.500000    56.800000   143.000000   394.000000   \n",
              "\n",
              "         TenYearCHD  \n",
              "count   3390.000000  \n",
              "unique          NaN  \n",
              "top             NaN  \n",
              "freq            NaN  \n",
              "mean       0.150737  \n",
              "std        0.357846  \n",
              "min        0.000000  \n",
              "25%        0.000000  \n",
              "50%        0.000000  \n",
              "75%        0.000000  \n",
              "max        1.000000  "
            ],
            "text/html": [
              "\n",
              "  <div id=\"df-a0114fd8-fb4e-463f-b898-c5c97aba8526\">\n",
              "    <div class=\"colab-df-container\">\n",
              "      <div>\n",
              "<style scoped>\n",
              "    .dataframe tbody tr th:only-of-type {\n",
              "        vertical-align: middle;\n",
              "    }\n",
              "\n",
              "    .dataframe tbody tr th {\n",
              "        vertical-align: top;\n",
              "    }\n",
              "\n",
              "    .dataframe thead th {\n",
              "        text-align: right;\n",
              "    }\n",
              "</style>\n",
              "<table border=\"1\" class=\"dataframe\">\n",
              "  <thead>\n",
              "    <tr style=\"text-align: right;\">\n",
              "      <th></th>\n",
              "      <th>id</th>\n",
              "      <th>age</th>\n",
              "      <th>education</th>\n",
              "      <th>sex</th>\n",
              "      <th>is_smoking</th>\n",
              "      <th>cigsPerDay</th>\n",
              "      <th>BPMeds</th>\n",
              "      <th>prevalentStroke</th>\n",
              "      <th>prevalentHyp</th>\n",
              "      <th>diabetes</th>\n",
              "      <th>totChol</th>\n",
              "      <th>sysBP</th>\n",
              "      <th>diaBP</th>\n",
              "      <th>BMI</th>\n",
              "      <th>heartRate</th>\n",
              "      <th>glucose</th>\n",
              "      <th>TenYearCHD</th>\n",
              "    </tr>\n",
              "  </thead>\n",
              "  <tbody>\n",
              "    <tr>\n",
              "      <th>count</th>\n",
              "      <td>3390.000000</td>\n",
              "      <td>3390.000000</td>\n",
              "      <td>3303.000000</td>\n",
              "      <td>3390</td>\n",
              "      <td>3390</td>\n",
              "      <td>3368.000000</td>\n",
              "      <td>3346.000000</td>\n",
              "      <td>3390.000000</td>\n",
              "      <td>3390.000000</td>\n",
              "      <td>3390.000000</td>\n",
              "      <td>3352.000000</td>\n",
              "      <td>3390.00000</td>\n",
              "      <td>3390.000000</td>\n",
              "      <td>3376.000000</td>\n",
              "      <td>3389.000000</td>\n",
              "      <td>3086.000000</td>\n",
              "      <td>3390.000000</td>\n",
              "    </tr>\n",
              "    <tr>\n",
              "      <th>unique</th>\n",
              "      <td>NaN</td>\n",
              "      <td>NaN</td>\n",
              "      <td>NaN</td>\n",
              "      <td>2</td>\n",
              "      <td>2</td>\n",
              "      <td>NaN</td>\n",
              "      <td>NaN</td>\n",
              "      <td>NaN</td>\n",
              "      <td>NaN</td>\n",
              "      <td>NaN</td>\n",
              "      <td>NaN</td>\n",
              "      <td>NaN</td>\n",
              "      <td>NaN</td>\n",
              "      <td>NaN</td>\n",
              "      <td>NaN</td>\n",
              "      <td>NaN</td>\n",
              "      <td>NaN</td>\n",
              "    </tr>\n",
              "    <tr>\n",
              "      <th>top</th>\n",
              "      <td>NaN</td>\n",
              "      <td>NaN</td>\n",
              "      <td>NaN</td>\n",
              "      <td>F</td>\n",
              "      <td>NO</td>\n",
              "      <td>NaN</td>\n",
              "      <td>NaN</td>\n",
              "      <td>NaN</td>\n",
              "      <td>NaN</td>\n",
              "      <td>NaN</td>\n",
              "      <td>NaN</td>\n",
              "      <td>NaN</td>\n",
              "      <td>NaN</td>\n",
              "      <td>NaN</td>\n",
              "      <td>NaN</td>\n",
              "      <td>NaN</td>\n",
              "      <td>NaN</td>\n",
              "    </tr>\n",
              "    <tr>\n",
              "      <th>freq</th>\n",
              "      <td>NaN</td>\n",
              "      <td>NaN</td>\n",
              "      <td>NaN</td>\n",
              "      <td>1923</td>\n",
              "      <td>1703</td>\n",
              "      <td>NaN</td>\n",
              "      <td>NaN</td>\n",
              "      <td>NaN</td>\n",
              "      <td>NaN</td>\n",
              "      <td>NaN</td>\n",
              "      <td>NaN</td>\n",
              "      <td>NaN</td>\n",
              "      <td>NaN</td>\n",
              "      <td>NaN</td>\n",
              "      <td>NaN</td>\n",
              "      <td>NaN</td>\n",
              "      <td>NaN</td>\n",
              "    </tr>\n",
              "    <tr>\n",
              "      <th>mean</th>\n",
              "      <td>1694.500000</td>\n",
              "      <td>49.542183</td>\n",
              "      <td>1.970936</td>\n",
              "      <td>NaN</td>\n",
              "      <td>NaN</td>\n",
              "      <td>9.069477</td>\n",
              "      <td>0.029886</td>\n",
              "      <td>0.006490</td>\n",
              "      <td>0.315339</td>\n",
              "      <td>0.025664</td>\n",
              "      <td>237.074284</td>\n",
              "      <td>132.60118</td>\n",
              "      <td>82.883038</td>\n",
              "      <td>25.794964</td>\n",
              "      <td>75.977279</td>\n",
              "      <td>82.086520</td>\n",
              "      <td>0.150737</td>\n",
              "    </tr>\n",
              "    <tr>\n",
              "      <th>std</th>\n",
              "      <td>978.753033</td>\n",
              "      <td>8.592878</td>\n",
              "      <td>1.019081</td>\n",
              "      <td>NaN</td>\n",
              "      <td>NaN</td>\n",
              "      <td>11.879078</td>\n",
              "      <td>0.170299</td>\n",
              "      <td>0.080309</td>\n",
              "      <td>0.464719</td>\n",
              "      <td>0.158153</td>\n",
              "      <td>45.247430</td>\n",
              "      <td>22.29203</td>\n",
              "      <td>12.023581</td>\n",
              "      <td>4.115449</td>\n",
              "      <td>11.971868</td>\n",
              "      <td>24.244753</td>\n",
              "      <td>0.357846</td>\n",
              "    </tr>\n",
              "    <tr>\n",
              "      <th>min</th>\n",
              "      <td>0.000000</td>\n",
              "      <td>32.000000</td>\n",
              "      <td>1.000000</td>\n",
              "      <td>NaN</td>\n",
              "      <td>NaN</td>\n",
              "      <td>0.000000</td>\n",
              "      <td>0.000000</td>\n",
              "      <td>0.000000</td>\n",
              "      <td>0.000000</td>\n",
              "      <td>0.000000</td>\n",
              "      <td>107.000000</td>\n",
              "      <td>83.50000</td>\n",
              "      <td>48.000000</td>\n",
              "      <td>15.960000</td>\n",
              "      <td>45.000000</td>\n",
              "      <td>40.000000</td>\n",
              "      <td>0.000000</td>\n",
              "    </tr>\n",
              "    <tr>\n",
              "      <th>25%</th>\n",
              "      <td>847.250000</td>\n",
              "      <td>42.000000</td>\n",
              "      <td>1.000000</td>\n",
              "      <td>NaN</td>\n",
              "      <td>NaN</td>\n",
              "      <td>0.000000</td>\n",
              "      <td>0.000000</td>\n",
              "      <td>0.000000</td>\n",
              "      <td>0.000000</td>\n",
              "      <td>0.000000</td>\n",
              "      <td>206.000000</td>\n",
              "      <td>117.00000</td>\n",
              "      <td>74.500000</td>\n",
              "      <td>23.020000</td>\n",
              "      <td>68.000000</td>\n",
              "      <td>71.000000</td>\n",
              "      <td>0.000000</td>\n",
              "    </tr>\n",
              "    <tr>\n",
              "      <th>50%</th>\n",
              "      <td>1694.500000</td>\n",
              "      <td>49.000000</td>\n",
              "      <td>2.000000</td>\n",
              "      <td>NaN</td>\n",
              "      <td>NaN</td>\n",
              "      <td>0.000000</td>\n",
              "      <td>0.000000</td>\n",
              "      <td>0.000000</td>\n",
              "      <td>0.000000</td>\n",
              "      <td>0.000000</td>\n",
              "      <td>234.000000</td>\n",
              "      <td>128.50000</td>\n",
              "      <td>82.000000</td>\n",
              "      <td>25.380000</td>\n",
              "      <td>75.000000</td>\n",
              "      <td>78.000000</td>\n",
              "      <td>0.000000</td>\n",
              "    </tr>\n",
              "    <tr>\n",
              "      <th>75%</th>\n",
              "      <td>2541.750000</td>\n",
              "      <td>56.000000</td>\n",
              "      <td>3.000000</td>\n",
              "      <td>NaN</td>\n",
              "      <td>NaN</td>\n",
              "      <td>20.000000</td>\n",
              "      <td>0.000000</td>\n",
              "      <td>0.000000</td>\n",
              "      <td>1.000000</td>\n",
              "      <td>0.000000</td>\n",
              "      <td>264.000000</td>\n",
              "      <td>144.00000</td>\n",
              "      <td>90.000000</td>\n",
              "      <td>28.040000</td>\n",
              "      <td>83.000000</td>\n",
              "      <td>87.000000</td>\n",
              "      <td>0.000000</td>\n",
              "    </tr>\n",
              "    <tr>\n",
              "      <th>max</th>\n",
              "      <td>3389.000000</td>\n",
              "      <td>70.000000</td>\n",
              "      <td>4.000000</td>\n",
              "      <td>NaN</td>\n",
              "      <td>NaN</td>\n",
              "      <td>70.000000</td>\n",
              "      <td>1.000000</td>\n",
              "      <td>1.000000</td>\n",
              "      <td>1.000000</td>\n",
              "      <td>1.000000</td>\n",
              "      <td>696.000000</td>\n",
              "      <td>295.00000</td>\n",
              "      <td>142.500000</td>\n",
              "      <td>56.800000</td>\n",
              "      <td>143.000000</td>\n",
              "      <td>394.000000</td>\n",
              "      <td>1.000000</td>\n",
              "    </tr>\n",
              "  </tbody>\n",
              "</table>\n",
              "</div>\n",
              "      <button class=\"colab-df-convert\" onclick=\"convertToInteractive('df-a0114fd8-fb4e-463f-b898-c5c97aba8526')\"\n",
              "              title=\"Convert this dataframe to an interactive table.\"\n",
              "              style=\"display:none;\">\n",
              "        \n",
              "  <svg xmlns=\"http://www.w3.org/2000/svg\" height=\"24px\"viewBox=\"0 0 24 24\"\n",
              "       width=\"24px\">\n",
              "    <path d=\"M0 0h24v24H0V0z\" fill=\"none\"/>\n",
              "    <path d=\"M18.56 5.44l.94 2.06.94-2.06 2.06-.94-2.06-.94-.94-2.06-.94 2.06-2.06.94zm-11 1L8.5 8.5l.94-2.06 2.06-.94-2.06-.94L8.5 2.5l-.94 2.06-2.06.94zm10 10l.94 2.06.94-2.06 2.06-.94-2.06-.94-.94-2.06-.94 2.06-2.06.94z\"/><path d=\"M17.41 7.96l-1.37-1.37c-.4-.4-.92-.59-1.43-.59-.52 0-1.04.2-1.43.59L10.3 9.45l-7.72 7.72c-.78.78-.78 2.05 0 2.83L4 21.41c.39.39.9.59 1.41.59.51 0 1.02-.2 1.41-.59l7.78-7.78 2.81-2.81c.8-.78.8-2.07 0-2.86zM5.41 20L4 18.59l7.72-7.72 1.47 1.35L5.41 20z\"/>\n",
              "  </svg>\n",
              "      </button>\n",
              "      \n",
              "  <style>\n",
              "    .colab-df-container {\n",
              "      display:flex;\n",
              "      flex-wrap:wrap;\n",
              "      gap: 12px;\n",
              "    }\n",
              "\n",
              "    .colab-df-convert {\n",
              "      background-color: #E8F0FE;\n",
              "      border: none;\n",
              "      border-radius: 50%;\n",
              "      cursor: pointer;\n",
              "      display: none;\n",
              "      fill: #1967D2;\n",
              "      height: 32px;\n",
              "      padding: 0 0 0 0;\n",
              "      width: 32px;\n",
              "    }\n",
              "\n",
              "    .colab-df-convert:hover {\n",
              "      background-color: #E2EBFA;\n",
              "      box-shadow: 0px 1px 2px rgba(60, 64, 67, 0.3), 0px 1px 3px 1px rgba(60, 64, 67, 0.15);\n",
              "      fill: #174EA6;\n",
              "    }\n",
              "\n",
              "    [theme=dark] .colab-df-convert {\n",
              "      background-color: #3B4455;\n",
              "      fill: #D2E3FC;\n",
              "    }\n",
              "\n",
              "    [theme=dark] .colab-df-convert:hover {\n",
              "      background-color: #434B5C;\n",
              "      box-shadow: 0px 1px 3px 1px rgba(0, 0, 0, 0.15);\n",
              "      filter: drop-shadow(0px 1px 2px rgba(0, 0, 0, 0.3));\n",
              "      fill: #FFFFFF;\n",
              "    }\n",
              "  </style>\n",
              "\n",
              "      <script>\n",
              "        const buttonEl =\n",
              "          document.querySelector('#df-a0114fd8-fb4e-463f-b898-c5c97aba8526 button.colab-df-convert');\n",
              "        buttonEl.style.display =\n",
              "          google.colab.kernel.accessAllowed ? 'block' : 'none';\n",
              "\n",
              "        async function convertToInteractive(key) {\n",
              "          const element = document.querySelector('#df-a0114fd8-fb4e-463f-b898-c5c97aba8526');\n",
              "          const dataTable =\n",
              "            await google.colab.kernel.invokeFunction('convertToInteractive',\n",
              "                                                     [key], {});\n",
              "          if (!dataTable) return;\n",
              "\n",
              "          const docLinkHtml = 'Like what you see? Visit the ' +\n",
              "            '<a target=\"_blank\" href=https://colab.research.google.com/notebooks/data_table.ipynb>data table notebook</a>'\n",
              "            + ' to learn more about interactive tables.';\n",
              "          element.innerHTML = '';\n",
              "          dataTable['output_type'] = 'display_data';\n",
              "          await google.colab.output.renderOutput(dataTable, element);\n",
              "          const docLink = document.createElement('div');\n",
              "          docLink.innerHTML = docLinkHtml;\n",
              "          element.appendChild(docLink);\n",
              "        }\n",
              "      </script>\n",
              "    </div>\n",
              "  </div>\n",
              "  "
            ]
          },
          "metadata": {},
          "execution_count": 8
        }
      ]
    },
    {
      "cell_type": "code",
      "source": [
        "Dataset.education.value_counts()"
      ],
      "metadata": {
        "colab": {
          "base_uri": "https://localhost:8080/"
        },
        "id": "2jkCw5kMfWK9",
        "outputId": "c0961b82-265e-4c1e-b2b7-e3114e028972"
      },
      "execution_count": 9,
      "outputs": [
        {
          "output_type": "execute_result",
          "data": {
            "text/plain": [
              "1.0    1391\n",
              "2.0     990\n",
              "3.0     549\n",
              "4.0     373\n",
              "Name: education, dtype: int64"
            ]
          },
          "metadata": {},
          "execution_count": 9
        }
      ]
    },
    {
      "cell_type": "markdown",
      "source": [
        "Education feature with only four unique values; So It is considered a categorical feature."
      ],
      "metadata": {
        "id": "OSS5-cfOzHxA"
      }
    },
    {
      "cell_type": "code",
      "source": [
        "Categorical_features=['sex','is_smoking','BPMeds','prevalentStroke','prevalentHyp','diabetes','education']"
      ],
      "metadata": {
        "id": "4mIU0zguuSUZ"
      },
      "execution_count": 10,
      "outputs": []
    },
    {
      "cell_type": "code",
      "source": [
        "Numeric_Features=[x for x in Dataset.describe().columns if not x in ['id','TenYearCHD','BPMeds'\t,'prevalentStroke','prevalentHyp','diabetes','education']]"
      ],
      "metadata": {
        "id": "P04b1_3h2Lkb"
      },
      "execution_count": 11,
      "outputs": []
    },
    {
      "cell_type": "code",
      "source": [
        "Dataset[Numeric_Features].info()"
      ],
      "metadata": {
        "colab": {
          "base_uri": "https://localhost:8080/"
        },
        "id": "gatRCyLLIIK_",
        "outputId": "f02995fd-12e3-4813-a1fc-3bc9355114ec"
      },
      "execution_count": 12,
      "outputs": [
        {
          "output_type": "stream",
          "name": "stdout",
          "text": [
            "<class 'pandas.core.frame.DataFrame'>\n",
            "RangeIndex: 3390 entries, 0 to 3389\n",
            "Data columns (total 8 columns):\n",
            "age           3390 non-null int64\n",
            "cigsPerDay    3368 non-null float64\n",
            "totChol       3352 non-null float64\n",
            "sysBP         3390 non-null float64\n",
            "diaBP         3390 non-null float64\n",
            "BMI           3376 non-null float64\n",
            "heartRate     3389 non-null float64\n",
            "glucose       3086 non-null float64\n",
            "dtypes: float64(7), int64(1)\n",
            "memory usage: 212.0 KB\n"
          ]
        }
      ]
    },
    {
      "cell_type": "code",
      "source": [
        "plt.figure(figsize=(20,10))\n",
        "for num,feat in enumerate(Numeric_Features):\n",
        "  plt.subplot(3,3,num+1)\n",
        "  sns.distplot(Dataset[feat])\n",
        "\n",
        "\n"
      ],
      "metadata": {
        "colab": {
          "base_uri": "https://localhost:8080/",
          "height": 331
        },
        "id": "n96oNOWC4gPr",
        "outputId": "d0913e4b-3a46-43a5-b20f-3d324e4c83ff"
      },
      "execution_count": 13,
      "outputs": [
        {
          "output_type": "display_data",
          "data": {
            "text/plain": [
              "<Figure size 1440x720 with 8 Axes>"
            ],
            "image/png": "[encoded data removed]"
          },
          "metadata": {
            "needs_background": "light"
          }
        }
      ]
    },
    {
      "cell_type": "code",
      "source": [
        "Dataset['cigsPerDay']=Dataset['cigsPerDay'].fillna(0)\n",
        "Dataset['totChol']=Dataset['totChol'].fillna(Dataset['totChol'].median())\n",
        "Dataset['BMI']=Dataset['BMI'].fillna(Dataset['BMI'].median())\n",
        "Dataset['heartRate']=Dataset['heartRate'].fillna(Dataset['heartRate'].mean())\n",
        "Dataset['glucose']=Dataset['glucose'].fillna(Dataset['glucose'].median())"
      ],
      "metadata": {
        "id": "X1yttTKK535B"
      },
      "execution_count": 14,
      "outputs": []
    },
    {
      "cell_type": "code",
      "source": [
        "plt.figure(figsize=(20,10))\n",
        "\n",
        "for num,feat in enumerate(Numeric_Features):\n",
        "  plt.subplot(3,3,num+1)\n",
        "  sns.distplot(np.log1p(Dataset[feat]))\n",
        "\n"
      ],
      "metadata": {
        "colab": {
          "base_uri": "https://localhost:8080/",
          "height": 332
        },
        "id": "7VeCQC6H9RHM",
        "outputId": "24205090-e1f7-4606-ae65-d8b05a7bade9"
      },
      "execution_count": 15,
      "outputs": [
        {
          "output_type": "display_data",
          "data": {
            "text/plain": [
              "<Figure size 1440x720 with 8 Axes>"
            ],
            "image/png": "[encoded data removed]"
          },
          "metadata": {
            "needs_background": "light"
          }
        }
      ]
    },
    {
      "cell_type": "code",
      "source": [
        "Dataset[Categorical_features].info()"
      ],
      "metadata": {
        "colab": {
          "base_uri": "https://localhost:8080/"
        },
        "id": "3nCwH6Hb-EXZ",
        "outputId": "a8af7338-4256-49a5-cca2-04a833fca502"
      },
      "execution_count": 16,
      "outputs": [
        {
          "output_type": "stream",
          "name": "stdout",
          "text": [
            "<class 'pandas.core.frame.DataFrame'>\n",
            "RangeIndex: 3390 entries, 0 to 3389\n",
            "Data columns (total 7 columns):\n",
            "sex                3390 non-null object\n",
            "is_smoking         3390 non-null object\n",
            "BPMeds             3346 non-null float64\n",
            "prevalentStroke    3390 non-null int64\n",
            "prevalentHyp       3390 non-null int64\n",
            "diabetes           3390 non-null int64\n",
            "education          3303 non-null float64\n",
            "dtypes: float64(2), int64(3), object(2)\n",
            "memory usage: 185.5+ KB\n"
          ]
        }
      ]
    },
    {
      "cell_type": "code",
      "source": [
        "Dataset.BPMeds.value_counts()"
      ],
      "metadata": {
        "colab": {
          "base_uri": "https://localhost:8080/"
        },
        "id": "KLPVMEFmvnS4",
        "outputId": "f90e132b-33b3-41d4-abe7-74952134b6c8"
      },
      "execution_count": 17,
      "outputs": [
        {
          "output_type": "execute_result",
          "data": {
            "text/plain": [
              "0.0    3246\n",
              "1.0     100\n",
              "Name: BPMeds, dtype: int64"
            ]
          },
          "metadata": {},
          "execution_count": 17
        }
      ]
    },
    {
      "cell_type": "code",
      "source": [
        "Dataset['BPMeds']=Dataset.BPMeds.fillna(0)#na values filled with mode "
      ],
      "metadata": {
        "id": "7dSkb4WfLwZ6"
      },
      "execution_count": 18,
      "outputs": []
    },
    {
      "cell_type": "code",
      "source": [
        "Dataset.education.value_counts()"
      ],
      "metadata": {
        "colab": {
          "base_uri": "https://localhost:8080/"
        },
        "id": "QOsK7gvHvzp2",
        "outputId": "ab722d79-b06f-4174-c97a-7a284dd956f9"
      },
      "execution_count": 19,
      "outputs": [
        {
          "output_type": "execute_result",
          "data": {
            "text/plain": [
              "1.0    1391\n",
              "2.0     990\n",
              "3.0     549\n",
              "4.0     373\n",
              "Name: education, dtype: int64"
            ]
          },
          "metadata": {},
          "execution_count": 19
        }
      ]
    },
    {
      "cell_type": "markdown",
      "source": [
        "Education feature has about 90 NaN values and there is no clear major mode exists. So we need to think some other way of imputing.\n",
        "(categorical feature hence no mean/median imputation is reasonable)."
      ],
      "metadata": {
        "id": "oh6RY4QJ-F2_"
      }
    },
    {
      "cell_type": "code",
      "source": [
        ""
      ],
      "metadata": {
        "id": "5nH6nRdB8eJ3"
      },
      "execution_count": 19,
      "outputs": []
    },
    {
      "cell_type": "code",
      "source": [
        "#features and label\n",
        "X=Dataset[Numeric_Features+Categorical_features]\n",
        "y=Dataset['TenYearCHD']\n",
        "X['is_smoking']=[1 if x=='YES' else 0 for x in X['is_smoking']]#mapping \n",
        "X=pd.get_dummies(X,columns=['sex'],prefix='sex')#one-hot encoding\n",
        "X"
      ],
      "metadata": {
        "colab": {
          "base_uri": "https://localhost:8080/",
          "height": 487
        },
        "id": "-FIL1yE0AOqD",
        "outputId": "f179d620-4f67-490c-90b0-c4b328557bb6"
      },
      "execution_count": 20,
      "outputs": [
        {
          "output_type": "execute_result",
          "data": {
            "text/plain": [
              "      age  cigsPerDay  totChol  sysBP  diaBP    BMI  heartRate  glucose  \\\n",
              "0      64         3.0    221.0  148.0   85.0  25.38       90.0     80.0   \n",
              "1      36         0.0    212.0  168.0   98.0  29.77       72.0     75.0   \n",
              "2      46        10.0    250.0  116.0   71.0  20.35       88.0     94.0   \n",
              "3      50        20.0    233.0  158.0   88.0  28.26       68.0     94.0   \n",
              "4      64        30.0    241.0  136.5   85.0  26.42       70.0     77.0   \n",
              "...   ...         ...      ...    ...    ...    ...        ...      ...   \n",
              "3385   60         0.0    261.0  123.5   79.0  29.28       70.0    103.0   \n",
              "3386   46         0.0    199.0  102.0   56.0  21.96       80.0     84.0   \n",
              "3387   44         3.0    352.0  164.0  119.0  28.92       73.0     72.0   \n",
              "3388   60         0.0    191.0  167.0  105.0  23.01       80.0     85.0   \n",
              "3389   54         0.0    288.0  124.0   77.0  29.88       79.0     92.0   \n",
              "\n",
              "      is_smoking  BPMeds  prevalentStroke  prevalentHyp  diabetes  education  \\\n",
              "0              1     0.0                0             0         0        2.0   \n",
              "1              0     0.0                0             1         0        4.0   \n",
              "2              1     0.0                0             0         0        1.0   \n",
              "3              1     0.0                0             1         0        1.0   \n",
              "4              1     0.0                0             0         0        1.0   \n",
              "...          ...     ...              ...           ...       ...        ...   \n",
              "3385           0     0.0                0             0         0        1.0   \n",
              "3386           0     0.0                0             0         0        1.0   \n",
              "3387           1     0.0                0             1         0        3.0   \n",
              "3388           0     0.0                0             1         0        1.0   \n",
              "3389           0     0.0                0             0         0        3.0   \n",
              "\n",
              "      sex_F  sex_M  \n",
              "0         1      0  \n",
              "1         0      1  \n",
              "2         1      0  \n",
              "3         0      1  \n",
              "4         1      0  \n",
              "...     ...    ...  \n",
              "3385      1      0  \n",
              "3386      1      0  \n",
              "3387      0      1  \n",
              "3388      0      1  \n",
              "3389      1      0  \n",
              "\n",
              "[3390 rows x 16 columns]"
            ],
            "text/html": [
              "\n",
              "  <div id=\"df-b13186fb-6783-4b6b-ab74-ecbee6f9472e\">\n",
              "    <div class=\"colab-df-container\">\n",
              "      <div>\n",
              "<style scoped>\n",
              "    .dataframe tbody tr th:only-of-type {\n",
              "        vertical-align: middle;\n",
              "    }\n",
              "\n",
              "    .dataframe tbody tr th {\n",
              "        vertical-align: top;\n",
              "    }\n",
              "\n",
              "    .dataframe thead th {\n",
              "        text-align: right;\n",
              "    }\n",
              "</style>\n",
              "<table border=\"1\" class=\"dataframe\">\n",
              "  <thead>\n",
              "    <tr style=\"text-align: right;\">\n",
              "      <th></th>\n",
              "      <th>age</th>\n",
              "      <th>cigsPerDay</th>\n",
              "      <th>totChol</th>\n",
              "      <th>sysBP</th>\n",
              "      <th>diaBP</th>\n",
              "      <th>BMI</th>\n",
              "      <th>heartRate</th>\n",
              "      <th>glucose</th>\n",
              "      <th>is_smoking</th>\n",
              "      <th>BPMeds</th>\n",
              "      <th>prevalentStroke</th>\n",
              "      <th>prevalentHyp</th>\n",
              "      <th>diabetes</th>\n",
              "      <th>education</th>\n",
              "      <th>sex_F</th>\n",
              "      <th>sex_M</th>\n",
              "    </tr>\n",
              "  </thead>\n",
              "  <tbody>\n",
              "    <tr>\n",
              "      <th>0</th>\n",
              "      <td>64</td>\n",
              "      <td>3.0</td>\n",
              "      <td>221.0</td>\n",
              "      <td>148.0</td>\n",
              "      <td>85.0</td>\n",
              "      <td>25.38</td>\n",
              "      <td>90.0</td>\n",
              "      <td>80.0</td>\n",
              "      <td>1</td>\n",
              "      <td>0.0</td>\n",
              "      <td>0</td>\n",
              "      <td>0</td>\n",
              "      <td>0</td>\n",
              "      <td>2.0</td>\n",
              "      <td>1</td>\n",
              "      <td>0</td>\n",
              "    </tr>\n",
              "    <tr>\n",
              "      <th>1</th>\n",
              "      <td>36</td>\n",
              "      <td>0.0</td>\n",
              "      <td>212.0</td>\n",
              "      <td>168.0</td>\n",
              "      <td>98.0</td>\n",
              "      <td>29.77</td>\n",
              "      <td>72.0</td>\n",
              "      <td>75.0</td>\n",
              "      <td>0</td>\n",
              "      <td>0.0</td>\n",
              "      <td>0</td>\n",
              "      <td>1</td>\n",
              "      <td>0</td>\n",
              "      <td>4.0</td>\n",
              "      <td>0</td>\n",
              "      <td>1</td>\n",
              "    </tr>\n",
              "    <tr>\n",
              "      <th>2</th>\n",
              "      <td>46</td>\n",
              "      <td>10.0</td>\n",
              "      <td>250.0</td>\n",
              "      <td>116.0</td>\n",
              "      <td>71.0</td>\n",
              "      <td>20.35</td>\n",
              "      <td>88.0</td>\n",
              "      <td>94.0</td>\n",
              "      <td>1</td>\n",
              "      <td>0.0</td>\n",
              "      <td>0</td>\n",
              "      <td>0</td>\n",
              "      <td>0</td>\n",
              "      <td>1.0</td>\n",
              "      <td>1</td>\n",
              "      <td>0</td>\n",
              "    </tr>\n",
              "    <tr>\n",
              "      <th>3</th>\n",
              "      <td>50</td>\n",
              "      <td>20.0</td>\n",
              "      <td>233.0</td>\n",
              "      <td>158.0</td>\n",
              "      <td>88.0</td>\n",
              "      <td>28.26</td>\n",
              "      <td>68.0</td>\n",
              "      <td>94.0</td>\n",
              "      <td>1</td>\n",
              "      <td>0.0</td>\n",
              "      <td>0</td>\n",
              "      <td>1</td>\n",
              "      <td>0</td>\n",
              "      <td>1.0</td>\n",
              "      <td>0</td>\n",
              "      <td>1</td>\n",
              "    </tr>\n",
              "    <tr>\n",
              "      <th>4</th>\n",
              "      <td>64</td>\n",
              "      <td>30.0</td>\n",
              "      <td>241.0</td>\n",
              "      <td>136.5</td>\n",
              "      <td>85.0</td>\n",
              "      <td>26.42</td>\n",
              "      <td>70.0</td>\n",
              "      <td>77.0</td>\n",
              "      <td>1</td>\n",
              "      <td>0.0</td>\n",
              "      <td>0</td>\n",
              "      <td>0</td>\n",
              "      <td>0</td>\n",
              "      <td>1.0</td>\n",
              "      <td>1</td>\n",
              "      <td>0</td>\n",
              "    </tr>\n",
              "    <tr>\n",
              "      <th>...</th>\n",
              "      <td>...</td>\n",
              "      <td>...</td>\n",
              "      <td>...</td>\n",
              "      <td>...</td>\n",
              "      <td>...</td>\n",
              "      <td>...</td>\n",
              "      <td>...</td>\n",
              "      <td>...</td>\n",
              "      <td>...</td>\n",
              "      <td>...</td>\n",
              "      <td>...</td>\n",
              "      <td>...</td>\n",
              "      <td>...</td>\n",
              "      <td>...</td>\n",
              "      <td>...</td>\n",
              "      <td>...</td>\n",
              "    </tr>\n",
              "    <tr>\n",
              "      <th>3385</th>\n",
              "      <td>60</td>\n",
              "      <td>0.0</td>\n",
              "      <td>261.0</td>\n",
              "      <td>123.5</td>\n",
              "      <td>79.0</td>\n",
              "      <td>29.28</td>\n",
              "      <td>70.0</td>\n",
              "      <td>103.0</td>\n",
              "      <td>0</td>\n",
              "      <td>0.0</td>\n",
              "      <td>0</td>\n",
              "      <td>0</td>\n",
              "      <td>0</td>\n",
              "      <td>1.0</td>\n",
              "      <td>1</td>\n",
              "      <td>0</td>\n",
              "    </tr>\n",
              "    <tr>\n",
              "      <th>3386</th>\n",
              "      <td>46</td>\n",
              "      <td>0.0</td>\n",
              "      <td>199.0</td>\n",
              "      <td>102.0</td>\n",
              "      <td>56.0</td>\n",
              "      <td>21.96</td>\n",
              "      <td>80.0</td>\n",
              "      <td>84.0</td>\n",
              "      <td>0</td>\n",
              "      <td>0.0</td>\n",
              "      <td>0</td>\n",
              "      <td>0</td>\n",
              "      <td>0</td>\n",
              "      <td>1.0</td>\n",
              "      <td>1</td>\n",
              "      <td>0</td>\n",
              "    </tr>\n",
              "    <tr>\n",
              "      <th>3387</th>\n",
              "      <td>44</td>\n",
              "      <td>3.0</td>\n",
              "      <td>352.0</td>\n",
              "      <td>164.0</td>\n",
              "      <td>119.0</td>\n",
              "      <td>28.92</td>\n",
              "      <td>73.0</td>\n",
              "      <td>72.0</td>\n",
              "      <td>1</td>\n",
              "      <td>0.0</td>\n",
              "      <td>0</td>\n",
              "      <td>1</td>\n",
              "      <td>0</td>\n",
              "      <td>3.0</td>\n",
              "      <td>0</td>\n",
              "      <td>1</td>\n",
              "    </tr>\n",
              "    <tr>\n",
              "      <th>3388</th>\n",
              "      <td>60</td>\n",
              "      <td>0.0</td>\n",
              "      <td>191.0</td>\n",
              "      <td>167.0</td>\n",
              "      <td>105.0</td>\n",
              "      <td>23.01</td>\n",
              "      <td>80.0</td>\n",
              "      <td>85.0</td>\n",
              "      <td>0</td>\n",
              "      <td>0.0</td>\n",
              "      <td>0</td>\n",
              "      <td>1</td>\n",
              "      <td>0</td>\n",
              "      <td>1.0</td>\n",
              "      <td>0</td>\n",
              "      <td>1</td>\n",
              "    </tr>\n",
              "    <tr>\n",
              "      <th>3389</th>\n",
              "      <td>54</td>\n",
              "      <td>0.0</td>\n",
              "      <td>288.0</td>\n",
              "      <td>124.0</td>\n",
              "      <td>77.0</td>\n",
              "      <td>29.88</td>\n",
              "      <td>79.0</td>\n",
              "      <td>92.0</td>\n",
              "      <td>0</td>\n",
              "      <td>0.0</td>\n",
              "      <td>0</td>\n",
              "      <td>0</td>\n",
              "      <td>0</td>\n",
              "      <td>3.0</td>\n",
              "      <td>1</td>\n",
              "      <td>0</td>\n",
              "    </tr>\n",
              "  </tbody>\n",
              "</table>\n",
              "<p>3390 rows × 16 columns</p>\n",
              "</div>\n",
              "      <button class=\"colab-df-convert\" onclick=\"convertToInteractive('df-b13186fb-6783-4b6b-ab74-ecbee6f9472e')\"\n",
              "              title=\"Convert this dataframe to an interactive table.\"\n",
              "              style=\"display:none;\">\n",
              "        \n",
              "  <svg xmlns=\"http://www.w3.org/2000/svg\" height=\"24px\"viewBox=\"0 0 24 24\"\n",
              "       width=\"24px\">\n",
              "    <path d=\"M0 0h24v24H0V0z\" fill=\"none\"/>\n",
              "    <path d=\"M18.56 5.44l.94 2.06.94-2.06 2.06-.94-2.06-.94-.94-2.06-.94 2.06-2.06.94zm-11 1L8.5 8.5l.94-2.06 2.06-.94-2.06-.94L8.5 2.5l-.94 2.06-2.06.94zm10 10l.94 2.06.94-2.06 2.06-.94-2.06-.94-.94-2.06-.94 2.06-2.06.94z\"/><path d=\"M17.41 7.96l-1.37-1.37c-.4-.4-.92-.59-1.43-.59-.52 0-1.04.2-1.43.59L10.3 9.45l-7.72 7.72c-.78.78-.78 2.05 0 2.83L4 21.41c.39.39.9.59 1.41.59.51 0 1.02-.2 1.41-.59l7.78-7.78 2.81-2.81c.8-.78.8-2.07 0-2.86zM5.41 20L4 18.59l7.72-7.72 1.47 1.35L5.41 20z\"/>\n",
              "  </svg>\n",
              "      </button>\n",
              "      \n",
              "  <style>\n",
              "    .colab-df-container {\n",
              "      display:flex;\n",
              "      flex-wrap:wrap;\n",
              "      gap: 12px;\n",
              "    }\n",
              "\n",
              "    .colab-df-convert {\n",
              "      background-color: #E8F0FE;\n",
              "      border: none;\n",
              "      border-radius: 50%;\n",
              "      cursor: pointer;\n",
              "      display: none;\n",
              "      fill: #1967D2;\n",
              "      height: 32px;\n",
              "      padding: 0 0 0 0;\n",
              "      width: 32px;\n",
              "    }\n",
              "\n",
              "    .colab-df-convert:hover {\n",
              "      background-color: #E2EBFA;\n",
              "      box-shadow: 0px 1px 2px rgba(60, 64, 67, 0.3), 0px 1px 3px 1px rgba(60, 64, 67, 0.15);\n",
              "      fill: #174EA6;\n",
              "    }\n",
              "\n",
              "    [theme=dark] .colab-df-convert {\n",
              "      background-color: #3B4455;\n",
              "      fill: #D2E3FC;\n",
              "    }\n",
              "\n",
              "    [theme=dark] .colab-df-convert:hover {\n",
              "      background-color: #434B5C;\n",
              "      box-shadow: 0px 1px 3px 1px rgba(0, 0, 0, 0.15);\n",
              "      filter: drop-shadow(0px 1px 2px rgba(0, 0, 0, 0.3));\n",
              "      fill: #FFFFFF;\n",
              "    }\n",
              "  </style>\n",
              "\n",
              "      <script>\n",
              "        const buttonEl =\n",
              "          document.querySelector('#df-b13186fb-6783-4b6b-ab74-ecbee6f9472e button.colab-df-convert');\n",
              "        buttonEl.style.display =\n",
              "          google.colab.kernel.accessAllowed ? 'block' : 'none';\n",
              "\n",
              "        async function convertToInteractive(key) {\n",
              "          const element = document.querySelector('#df-b13186fb-6783-4b6b-ab74-ecbee6f9472e');\n",
              "          const dataTable =\n",
              "            await google.colab.kernel.invokeFunction('convertToInteractive',\n",
              "                                                     [key], {});\n",
              "          if (!dataTable) return;\n",
              "\n",
              "          const docLinkHtml = 'Like what you see? Visit the ' +\n",
              "            '<a target=\"_blank\" href=https://colab.research.google.com/notebooks/data_table.ipynb>data table notebook</a>'\n",
              "            + ' to learn more about interactive tables.';\n",
              "          element.innerHTML = '';\n",
              "          dataTable['output_type'] = 'display_data';\n",
              "          await google.colab.output.renderOutput(dataTable, element);\n",
              "          const docLink = document.createElement('div');\n",
              "          docLink.innerHTML = docLinkHtml;\n",
              "          element.appendChild(docLink);\n",
              "        }\n",
              "      </script>\n",
              "    </div>\n",
              "  </div>\n",
              "  "
            ]
          },
          "metadata": {},
          "execution_count": 20
        }
      ]
    },
    {
      "cell_type": "code",
      "source": [
        "#Using Datawig to impute education null values\n",
        "df_train, df_test = datawig.utils.random_split(X)\n",
        "\n",
        "#Initialize a SimpleImputer model\n",
        "imputer = datawig.SimpleImputer(\n",
        "    input_columns=X.columns, \n",
        "    output_column= 'education', \n",
        "    output_path = 'imputer_model' \n",
        "    )\n",
        "\n",
        "#Fit an imputer model on the train data\n",
        "imputer.fit(train_df=df_train, num_epochs=50)\n"
      ],
      "metadata": {
        "colab": {
          "base_uri": "https://localhost:8080/"
        },
        "id": "ScSgVn3fPCmV",
        "outputId": "8020caf2-88d7-4877-dba5-b8f122f4065b"
      },
      "execution_count": 21,
      "outputs": [
        {
          "output_type": "stream",
          "name": "stderr",
          "text": [
            "2022-04-15 20:42:07,512 [INFO]  \n",
            "========== start: fit model\n",
            "2022-04-15 20:42:07,514 [WARNING]  Already bound, ignoring bind()\n",
            "2022-04-15 20:42:07,644 [INFO]  Epoch[0] Batch [0-77]\tSpeed: 10546.35 samples/sec\tcross-entropy=3.669604\teducation-accuracy=0.000000\n",
            "2022-04-15 20:42:07,762 [INFO]  Epoch[0] Train-cross-entropy=2.442759\n",
            "2022-04-15 20:42:07,769 [INFO]  Epoch[0] Train-education-accuracy=0.000000\n",
            "2022-04-15 20:42:07,776 [INFO]  Epoch[0] Time cost=0.255\n",
            "2022-04-15 20:42:07,785 [INFO]  Saved checkpoint to \"imputer_model/model-0000.params\"\n",
            "2022-04-15 20:42:07,802 [INFO]  Epoch[0] Validation-cross-entropy=0.876943\n",
            "2022-04-15 20:42:07,808 [INFO]  Epoch[0] Validation-education-accuracy=0.000000\n",
            "2022-04-15 20:42:07,950 [INFO]  Epoch[1] Batch [0-77]\tSpeed: 9189.27 samples/sec\tcross-entropy=0.448363\teducation-accuracy=0.000000\n",
            "2022-04-15 20:42:08,204 [INFO]  Epoch[1] Train-cross-entropy=0.305364\n",
            "2022-04-15 20:42:08,211 [INFO]  Epoch[1] Train-education-accuracy=0.000000\n",
            "2022-04-15 20:42:08,217 [INFO]  Epoch[1] Time cost=0.403\n",
            "2022-04-15 20:42:08,226 [INFO]  Saved checkpoint to \"imputer_model/model-0001.params\"\n",
            "2022-04-15 20:42:08,241 [INFO]  Epoch[1] Validation-cross-entropy=0.217860\n",
            "2022-04-15 20:42:08,249 [INFO]  Epoch[1] Validation-education-accuracy=0.000000\n",
            "2022-04-15 20:42:08,400 [INFO]  Epoch[2] Batch [0-77]\tSpeed: 8674.05 samples/sec\tcross-entropy=0.100545\teducation-accuracy=0.000000\n",
            "2022-04-15 20:42:08,619 [INFO]  Epoch[2] Train-cross-entropy=0.086927\n",
            "2022-04-15 20:42:08,631 [INFO]  Epoch[2] Train-education-accuracy=0.000000\n",
            "2022-04-15 20:42:08,636 [INFO]  Epoch[2] Time cost=0.380\n",
            "2022-04-15 20:42:08,645 [INFO]  Saved checkpoint to \"imputer_model/model-0002.params\"\n",
            "2022-04-15 20:42:08,679 [INFO]  Epoch[2] Validation-cross-entropy=0.110793\n",
            "2022-04-15 20:42:08,685 [INFO]  Epoch[2] Validation-education-accuracy=0.000000\n",
            "2022-04-15 20:42:08,835 [INFO]  Epoch[3] Batch [0-77]\tSpeed: 8654.09 samples/sec\tcross-entropy=0.058499\teducation-accuracy=0.000000\n",
            "2022-04-15 20:42:08,993 [INFO]  Epoch[3] Train-cross-entropy=0.057395\n",
            "2022-04-15 20:42:09,007 [INFO]  Epoch[3] Train-education-accuracy=0.000000\n",
            "2022-04-15 20:42:09,011 [INFO]  Epoch[3] Time cost=0.321\n",
            "2022-04-15 20:42:09,024 [INFO]  Saved checkpoint to \"imputer_model/model-0003.params\"\n",
            "2022-04-15 20:42:09,064 [INFO]  Epoch[3] Validation-cross-entropy=0.081611\n",
            "2022-04-15 20:42:09,068 [INFO]  Epoch[3] Validation-education-accuracy=0.000000\n",
            "2022-04-15 20:42:09,236 [INFO]  Epoch[4] Batch [0-77]\tSpeed: 7806.50 samples/sec\tcross-entropy=0.037581\teducation-accuracy=0.000000\n",
            "2022-04-15 20:42:09,382 [INFO]  Epoch[4] Train-cross-entropy=0.043161\n",
            "2022-04-15 20:42:09,384 [INFO]  Epoch[4] Train-education-accuracy=0.000000\n",
            "2022-04-15 20:42:09,386 [INFO]  Epoch[4] Time cost=0.311\n",
            "2022-04-15 20:42:09,392 [INFO]  Saved checkpoint to \"imputer_model/model-0004.params\"\n",
            "2022-04-15 20:42:09,408 [INFO]  Epoch[4] Validation-cross-entropy=0.076448\n",
            "2022-04-15 20:42:09,411 [INFO]  Epoch[4] Validation-education-accuracy=0.000000\n",
            "2022-04-15 20:42:09,568 [INFO]  Epoch[5] Batch [0-77]\tSpeed: 8039.20 samples/sec\tcross-entropy=0.030949\teducation-accuracy=0.000000\n",
            "2022-04-15 20:42:09,717 [INFO]  Epoch[5] Train-cross-entropy=0.035594\n",
            "2022-04-15 20:42:09,720 [INFO]  Epoch[5] Train-education-accuracy=0.000000\n",
            "2022-04-15 20:42:09,722 [INFO]  Epoch[5] Time cost=0.309\n",
            "2022-04-15 20:42:09,728 [INFO]  Saved checkpoint to \"imputer_model/model-0005.params\"\n",
            "2022-04-15 20:42:09,749 [INFO]  Epoch[5] Validation-cross-entropy=0.077029\n",
            "2022-04-15 20:42:09,752 [INFO]  Epoch[5] Validation-education-accuracy=0.000000\n",
            "2022-04-15 20:42:09,956 [INFO]  Epoch[6] Batch [0-77]\tSpeed: 6185.22 samples/sec\tcross-entropy=0.026420\teducation-accuracy=0.000000\n",
            "2022-04-15 20:42:10,224 [INFO]  Epoch[6] Train-cross-entropy=0.030976\n",
            "2022-04-15 20:42:10,227 [INFO]  Epoch[6] Train-education-accuracy=0.000000\n",
            "2022-04-15 20:42:10,232 [INFO]  Epoch[6] Time cost=0.478\n",
            "2022-04-15 20:42:10,241 [INFO]  Saved checkpoint to \"imputer_model/model-0006.params\"\n",
            "2022-04-15 20:42:10,280 [INFO]  Epoch[6] Validation-cross-entropy=0.081649\n",
            "2022-04-15 20:42:10,282 [INFO]  Epoch[6] Validation-education-accuracy=0.000000\n",
            "2022-04-15 20:42:10,419 [INFO]  Epoch[7] Batch [0-77]\tSpeed: 9662.67 samples/sec\tcross-entropy=0.024284\teducation-accuracy=0.000000\n",
            "2022-04-15 20:42:10,627 [INFO]  Epoch[7] Train-cross-entropy=0.029288\n",
            "2022-04-15 20:42:10,635 [INFO]  Epoch[7] Train-education-accuracy=0.000000\n",
            "2022-04-15 20:42:10,641 [INFO]  Epoch[7] Time cost=0.352\n",
            "2022-04-15 20:42:10,657 [INFO]  Saved checkpoint to \"imputer_model/model-0007.params\"\n",
            "2022-04-15 20:42:10,676 [INFO]  Epoch[7] Validation-cross-entropy=0.086451\n",
            "2022-04-15 20:42:10,677 [INFO]  Epoch[7] Validation-education-accuracy=0.000000\n",
            "2022-04-15 20:42:10,920 [INFO]  Epoch[8] Batch [0-77]\tSpeed: 5232.12 samples/sec\tcross-entropy=0.023272\teducation-accuracy=0.000000\n",
            "2022-04-15 20:42:11,142 [INFO]  Epoch[8] Train-cross-entropy=0.031669\n",
            "2022-04-15 20:42:11,145 [INFO]  Epoch[8] Train-education-accuracy=0.000000\n",
            "2022-04-15 20:42:11,147 [INFO]  Epoch[8] Time cost=0.464\n",
            "2022-04-15 20:42:11,155 [INFO]  Saved checkpoint to \"imputer_model/model-0008.params\"\n",
            "2022-04-15 20:42:11,191 [INFO]  Epoch[8] Validation-cross-entropy=0.202671\n",
            "2022-04-15 20:42:11,194 [INFO]  Epoch[8] Validation-education-accuracy=0.000000\n",
            "2022-04-15 20:42:11,346 [INFO]  Epoch[9] Batch [0-77]\tSpeed: 8444.87 samples/sec\tcross-entropy=0.247289\teducation-accuracy=0.000000\n",
            "2022-04-15 20:42:11,549 [INFO]  Epoch[9] Train-cross-entropy=0.671108\n",
            "2022-04-15 20:42:11,557 [INFO]  Epoch[9] Train-education-accuracy=0.000000\n",
            "2022-04-15 20:42:11,566 [INFO]  Epoch[9] Time cost=0.370\n",
            "2022-04-15 20:42:11,587 [INFO]  Saved checkpoint to \"imputer_model/model-0009.params\"\n",
            "2022-04-15 20:42:11,607 [INFO]  No improvement detected for 5 epochs compared to 0.07644771685933366 last error obtained: 0.8100063546615488, stopping here\n",
            "2022-04-15 20:42:11,614 [INFO]  \n",
            "========== done (4.10246205329895 s) fit model\n"
          ]
        },
        {
          "output_type": "execute_result",
          "data": {
            "text/plain": [
              "<datawig.simple_imputer.SimpleImputer at 0x7f8d7327fbd0>"
            ]
          },
          "metadata": {},
          "execution_count": 21
        }
      ]
    },
    {
      "cell_type": "code",
      "source": [
        "X_imputed=imputer.predict(X)"
      ],
      "metadata": {
        "id": "MQ-ykZ8Ehgsr"
      },
      "execution_count": 22,
      "outputs": []
    },
    {
      "cell_type": "code",
      "source": [
        "X_imputed['education'].isnull().value_counts()"
      ],
      "metadata": {
        "colab": {
          "base_uri": "https://localhost:8080/"
        },
        "id": "NOZ8vgzAxrsT",
        "outputId": "ee2a4945-ac4a-4bf2-99f9-2fbd0fb95dac"
      },
      "execution_count": 23,
      "outputs": [
        {
          "output_type": "execute_result",
          "data": {
            "text/plain": [
              "False    3303\n",
              "True       87\n",
              "Name: education, dtype: int64"
            ]
          },
          "metadata": {},
          "execution_count": 23
        }
      ]
    },
    {
      "cell_type": "code",
      "source": [
        "X_imputed.loc[X_imputed['education'].isnull(),'education'] = X_imputed['education_imputed']\n"
      ],
      "metadata": {
        "id": "cRwCdOM615GX"
      },
      "execution_count": 24,
      "outputs": []
    },
    {
      "cell_type": "code",
      "source": [
        "X_imputed['education'].isnull().value_counts()"
      ],
      "metadata": {
        "colab": {
          "base_uri": "https://localhost:8080/"
        },
        "id": "j5uA9kea26s7",
        "outputId": "9a2d1ba1-e55a-4e8c-f900-bcd39c8a5565"
      },
      "execution_count": 25,
      "outputs": [
        {
          "output_type": "execute_result",
          "data": {
            "text/plain": [
              "False    3390\n",
              "Name: education, dtype: int64"
            ]
          },
          "metadata": {},
          "execution_count": 25
        }
      ]
    },
    {
      "cell_type": "code",
      "source": [
        "X_imputed.drop(columns='education_imputed')\n"
      ],
      "metadata": {
        "colab": {
          "base_uri": "https://localhost:8080/",
          "height": 487
        },
        "id": "WME4u6K_5syL",
        "outputId": "8e58fcb8-5087-4abf-ded4-4b247008c5fc"
      },
      "execution_count": 26,
      "outputs": [
        {
          "output_type": "execute_result",
          "data": {
            "text/plain": [
              "      age  cigsPerDay  totChol  sysBP  diaBP    BMI  heartRate  glucose  \\\n",
              "0      64         3.0    221.0  148.0   85.0  25.38       90.0     80.0   \n",
              "1      36         0.0    212.0  168.0   98.0  29.77       72.0     75.0   \n",
              "2      46        10.0    250.0  116.0   71.0  20.35       88.0     94.0   \n",
              "3      50        20.0    233.0  158.0   88.0  28.26       68.0     94.0   \n",
              "4      64        30.0    241.0  136.5   85.0  26.42       70.0     77.0   \n",
              "...   ...         ...      ...    ...    ...    ...        ...      ...   \n",
              "3385   60         0.0    261.0  123.5   79.0  29.28       70.0    103.0   \n",
              "3386   46         0.0    199.0  102.0   56.0  21.96       80.0     84.0   \n",
              "3387   44         3.0    352.0  164.0  119.0  28.92       73.0     72.0   \n",
              "3388   60         0.0    191.0  167.0  105.0  23.01       80.0     85.0   \n",
              "3389   54         0.0    288.0  124.0   77.0  29.88       79.0     92.0   \n",
              "\n",
              "      is_smoking  BPMeds  prevalentStroke  prevalentHyp  diabetes  education  \\\n",
              "0              1     0.0                0             0         0        2.0   \n",
              "1              0     0.0                0             1         0        4.0   \n",
              "2              1     0.0                0             0         0        1.0   \n",
              "3              1     0.0                0             1         0        1.0   \n",
              "4              1     0.0                0             0         0        1.0   \n",
              "...          ...     ...              ...           ...       ...        ...   \n",
              "3385           0     0.0                0             0         0        1.0   \n",
              "3386           0     0.0                0             0         0        1.0   \n",
              "3387           1     0.0                0             1         0        3.0   \n",
              "3388           0     0.0                0             1         0        1.0   \n",
              "3389           0     0.0                0             0         0        3.0   \n",
              "\n",
              "      sex_F  sex_M  \n",
              "0         1      0  \n",
              "1         0      1  \n",
              "2         1      0  \n",
              "3         0      1  \n",
              "4         1      0  \n",
              "...     ...    ...  \n",
              "3385      1      0  \n",
              "3386      1      0  \n",
              "3387      0      1  \n",
              "3388      0      1  \n",
              "3389      1      0  \n",
              "\n",
              "[3390 rows x 16 columns]"
            ],
            "text/html": [
              "\n",
              "  <div id=\"df-1e64dc67-b3c7-4d5f-b80f-ad526e1b07ee\">\n",
              "    <div class=\"colab-df-container\">\n",
              "      <div>\n",
              "<style scoped>\n",
              "    .dataframe tbody tr th:only-of-type {\n",
              "        vertical-align: middle;\n",
              "    }\n",
              "\n",
              "    .dataframe tbody tr th {\n",
              "        vertical-align: top;\n",
              "    }\n",
              "\n",
              "    .dataframe thead th {\n",
              "        text-align: right;\n",
              "    }\n",
              "</style>\n",
              "<table border=\"1\" class=\"dataframe\">\n",
              "  <thead>\n",
              "    <tr style=\"text-align: right;\">\n",
              "      <th></th>\n",
              "      <th>age</th>\n",
              "      <th>cigsPerDay</th>\n",
              "      <th>totChol</th>\n",
              "      <th>sysBP</th>\n",
              "      <th>diaBP</th>\n",
              "      <th>BMI</th>\n",
              "      <th>heartRate</th>\n",
              "      <th>glucose</th>\n",
              "      <th>is_smoking</th>\n",
              "      <th>BPMeds</th>\n",
              "      <th>prevalentStroke</th>\n",
              "      <th>prevalentHyp</th>\n",
              "      <th>diabetes</th>\n",
              "      <th>education</th>\n",
              "      <th>sex_F</th>\n",
              "      <th>sex_M</th>\n",
              "    </tr>\n",
              "  </thead>\n",
              "  <tbody>\n",
              "    <tr>\n",
              "      <th>0</th>\n",
              "      <td>64</td>\n",
              "      <td>3.0</td>\n",
              "      <td>221.0</td>\n",
              "      <td>148.0</td>\n",
              "      <td>85.0</td>\n",
              "      <td>25.38</td>\n",
              "      <td>90.0</td>\n",
              "      <td>80.0</td>\n",
              "      <td>1</td>\n",
              "      <td>0.0</td>\n",
              "      <td>0</td>\n",
              "      <td>0</td>\n",
              "      <td>0</td>\n",
              "      <td>2.0</td>\n",
              "      <td>1</td>\n",
              "      <td>0</td>\n",
              "    </tr>\n",
              "    <tr>\n",
              "      <th>1</th>\n",
              "      <td>36</td>\n",
              "      <td>0.0</td>\n",
              "      <td>212.0</td>\n",
              "      <td>168.0</td>\n",
              "      <td>98.0</td>\n",
              "      <td>29.77</td>\n",
              "      <td>72.0</td>\n",
              "      <td>75.0</td>\n",
              "      <td>0</td>\n",
              "      <td>0.0</td>\n",
              "      <td>0</td>\n",
              "      <td>1</td>\n",
              "      <td>0</td>\n",
              "      <td>4.0</td>\n",
              "      <td>0</td>\n",
              "      <td>1</td>\n",
              "    </tr>\n",
              "    <tr>\n",
              "      <th>2</th>\n",
              "      <td>46</td>\n",
              "      <td>10.0</td>\n",
              "      <td>250.0</td>\n",
              "      <td>116.0</td>\n",
              "      <td>71.0</td>\n",
              "      <td>20.35</td>\n",
              "      <td>88.0</td>\n",
              "      <td>94.0</td>\n",
              "      <td>1</td>\n",
              "      <td>0.0</td>\n",
              "      <td>0</td>\n",
              "      <td>0</td>\n",
              "      <td>0</td>\n",
              "      <td>1.0</td>\n",
              "      <td>1</td>\n",
              "      <td>0</td>\n",
              "    </tr>\n",
              "    <tr>\n",
              "      <th>3</th>\n",
              "      <td>50</td>\n",
              "      <td>20.0</td>\n",
              "      <td>233.0</td>\n",
              "      <td>158.0</td>\n",
              "      <td>88.0</td>\n",
              "      <td>28.26</td>\n",
              "      <td>68.0</td>\n",
              "      <td>94.0</td>\n",
              "      <td>1</td>\n",
              "      <td>0.0</td>\n",
              "      <td>0</td>\n",
              "      <td>1</td>\n",
              "      <td>0</td>\n",
              "      <td>1.0</td>\n",
              "      <td>0</td>\n",
              "      <td>1</td>\n",
              "    </tr>\n",
              "    <tr>\n",
              "      <th>4</th>\n",
              "      <td>64</td>\n",
              "      <td>30.0</td>\n",
              "      <td>241.0</td>\n",
              "      <td>136.5</td>\n",
              "      <td>85.0</td>\n",
              "      <td>26.42</td>\n",
              "      <td>70.0</td>\n",
              "      <td>77.0</td>\n",
              "      <td>1</td>\n",
              "      <td>0.0</td>\n",
              "      <td>0</td>\n",
              "      <td>0</td>\n",
              "      <td>0</td>\n",
              "      <td>1.0</td>\n",
              "      <td>1</td>\n",
              "      <td>0</td>\n",
              "    </tr>\n",
              "    <tr>\n",
              "      <th>...</th>\n",
              "      <td>...</td>\n",
              "      <td>...</td>\n",
              "      <td>...</td>\n",
              "      <td>...</td>\n",
              "      <td>...</td>\n",
              "      <td>...</td>\n",
              "      <td>...</td>\n",
              "      <td>...</td>\n",
              "      <td>...</td>\n",
              "      <td>...</td>\n",
              "      <td>...</td>\n",
              "      <td>...</td>\n",
              "      <td>...</td>\n",
              "      <td>...</td>\n",
              "      <td>...</td>\n",
              "      <td>...</td>\n",
              "    </tr>\n",
              "    <tr>\n",
              "      <th>3385</th>\n",
              "      <td>60</td>\n",
              "      <td>0.0</td>\n",
              "      <td>261.0</td>\n",
              "      <td>123.5</td>\n",
              "      <td>79.0</td>\n",
              "      <td>29.28</td>\n",
              "      <td>70.0</td>\n",
              "      <td>103.0</td>\n",
              "      <td>0</td>\n",
              "      <td>0.0</td>\n",
              "      <td>0</td>\n",
              "      <td>0</td>\n",
              "      <td>0</td>\n",
              "      <td>1.0</td>\n",
              "      <td>1</td>\n",
              "      <td>0</td>\n",
              "    </tr>\n",
              "    <tr>\n",
              "      <th>3386</th>\n",
              "      <td>46</td>\n",
              "      <td>0.0</td>\n",
              "      <td>199.0</td>\n",
              "      <td>102.0</td>\n",
              "      <td>56.0</td>\n",
              "      <td>21.96</td>\n",
              "      <td>80.0</td>\n",
              "      <td>84.0</td>\n",
              "      <td>0</td>\n",
              "      <td>0.0</td>\n",
              "      <td>0</td>\n",
              "      <td>0</td>\n",
              "      <td>0</td>\n",
              "      <td>1.0</td>\n",
              "      <td>1</td>\n",
              "      <td>0</td>\n",
              "    </tr>\n",
              "    <tr>\n",
              "      <th>3387</th>\n",
              "      <td>44</td>\n",
              "      <td>3.0</td>\n",
              "      <td>352.0</td>\n",
              "      <td>164.0</td>\n",
              "      <td>119.0</td>\n",
              "      <td>28.92</td>\n",
              "      <td>73.0</td>\n",
              "      <td>72.0</td>\n",
              "      <td>1</td>\n",
              "      <td>0.0</td>\n",
              "      <td>0</td>\n",
              "      <td>1</td>\n",
              "      <td>0</td>\n",
              "      <td>3.0</td>\n",
              "      <td>0</td>\n",
              "      <td>1</td>\n",
              "    </tr>\n",
              "    <tr>\n",
              "      <th>3388</th>\n",
              "      <td>60</td>\n",
              "      <td>0.0</td>\n",
              "      <td>191.0</td>\n",
              "      <td>167.0</td>\n",
              "      <td>105.0</td>\n",
              "      <td>23.01</td>\n",
              "      <td>80.0</td>\n",
              "      <td>85.0</td>\n",
              "      <td>0</td>\n",
              "      <td>0.0</td>\n",
              "      <td>0</td>\n",
              "      <td>1</td>\n",
              "      <td>0</td>\n",
              "      <td>1.0</td>\n",
              "      <td>0</td>\n",
              "      <td>1</td>\n",
              "    </tr>\n",
              "    <tr>\n",
              "      <th>3389</th>\n",
              "      <td>54</td>\n",
              "      <td>0.0</td>\n",
              "      <td>288.0</td>\n",
              "      <td>124.0</td>\n",
              "      <td>77.0</td>\n",
              "      <td>29.88</td>\n",
              "      <td>79.0</td>\n",
              "      <td>92.0</td>\n",
              "      <td>0</td>\n",
              "      <td>0.0</td>\n",
              "      <td>0</td>\n",
              "      <td>0</td>\n",
              "      <td>0</td>\n",
              "      <td>3.0</td>\n",
              "      <td>1</td>\n",
              "      <td>0</td>\n",
              "    </tr>\n",
              "  </tbody>\n",
              "</table>\n",
              "<p>3390 rows × 16 columns</p>\n",
              "</div>\n",
              "      <button class=\"colab-df-convert\" onclick=\"convertToInteractive('df-1e64dc67-b3c7-4d5f-b80f-ad526e1b07ee')\"\n",
              "              title=\"Convert this dataframe to an interactive table.\"\n",
              "              style=\"display:none;\">\n",
              "        \n",
              "  <svg xmlns=\"http://www.w3.org/2000/svg\" height=\"24px\"viewBox=\"0 0 24 24\"\n",
              "       width=\"24px\">\n",
              "    <path d=\"M0 0h24v24H0V0z\" fill=\"none\"/>\n",
              "    <path d=\"M18.56 5.44l.94 2.06.94-2.06 2.06-.94-2.06-.94-.94-2.06-.94 2.06-2.06.94zm-11 1L8.5 8.5l.94-2.06 2.06-.94-2.06-.94L8.5 2.5l-.94 2.06-2.06.94zm10 10l.94 2.06.94-2.06 2.06-.94-2.06-.94-.94-2.06-.94 2.06-2.06.94z\"/><path d=\"M17.41 7.96l-1.37-1.37c-.4-.4-.92-.59-1.43-.59-.52 0-1.04.2-1.43.59L10.3 9.45l-7.72 7.72c-.78.78-.78 2.05 0 2.83L4 21.41c.39.39.9.59 1.41.59.51 0 1.02-.2 1.41-.59l7.78-7.78 2.81-2.81c.8-.78.8-2.07 0-2.86zM5.41 20L4 18.59l7.72-7.72 1.47 1.35L5.41 20z\"/>\n",
              "  </svg>\n",
              "      </button>\n",
              "      \n",
              "  <style>\n",
              "    .colab-df-container {\n",
              "      display:flex;\n",
              "      flex-wrap:wrap;\n",
              "      gap: 12px;\n",
              "    }\n",
              "\n",
              "    .colab-df-convert {\n",
              "      background-color: #E8F0FE;\n",
              "      border: none;\n",
              "      border-radius: 50%;\n",
              "      cursor: pointer;\n",
              "      display: none;\n",
              "      fill: #1967D2;\n",
              "      height: 32px;\n",
              "      padding: 0 0 0 0;\n",
              "      width: 32px;\n",
              "    }\n",
              "\n",
              "    .colab-df-convert:hover {\n",
              "      background-color: #E2EBFA;\n",
              "      box-shadow: 0px 1px 2px rgba(60, 64, 67, 0.3), 0px 1px 3px 1px rgba(60, 64, 67, 0.15);\n",
              "      fill: #174EA6;\n",
              "    }\n",
              "\n",
              "    [theme=dark] .colab-df-convert {\n",
              "      background-color: #3B4455;\n",
              "      fill: #D2E3FC;\n",
              "    }\n",
              "\n",
              "    [theme=dark] .colab-df-convert:hover {\n",
              "      background-color: #434B5C;\n",
              "      box-shadow: 0px 1px 3px 1px rgba(0, 0, 0, 0.15);\n",
              "      filter: drop-shadow(0px 1px 2px rgba(0, 0, 0, 0.3));\n",
              "      fill: #FFFFFF;\n",
              "    }\n",
              "  </style>\n",
              "\n",
              "      <script>\n",
              "        const buttonEl =\n",
              "          document.querySelector('#df-1e64dc67-b3c7-4d5f-b80f-ad526e1b07ee button.colab-df-convert');\n",
              "        buttonEl.style.display =\n",
              "          google.colab.kernel.accessAllowed ? 'block' : 'none';\n",
              "\n",
              "        async function convertToInteractive(key) {\n",
              "          const element = document.querySelector('#df-1e64dc67-b3c7-4d5f-b80f-ad526e1b07ee');\n",
              "          const dataTable =\n",
              "            await google.colab.kernel.invokeFunction('convertToInteractive',\n",
              "                                                     [key], {});\n",
              "          if (!dataTable) return;\n",
              "\n",
              "          const docLinkHtml = 'Like what you see? Visit the ' +\n",
              "            '<a target=\"_blank\" href=https://colab.research.google.com/notebooks/data_table.ipynb>data table notebook</a>'\n",
              "            + ' to learn more about interactive tables.';\n",
              "          element.innerHTML = '';\n",
              "          dataTable['output_type'] = 'display_data';\n",
              "          await google.colab.output.renderOutput(dataTable, element);\n",
              "          const docLink = document.createElement('div');\n",
              "          docLink.innerHTML = docLinkHtml;\n",
              "          element.appendChild(docLink);\n",
              "        }\n",
              "      </script>\n",
              "    </div>\n",
              "  </div>\n",
              "  "
            ]
          },
          "metadata": {},
          "execution_count": 26
        }
      ]
    },
    {
      "cell_type": "code",
      "source": [
        "# #normalizing and transforming numerical features to better scale \n",
        "X_imputed[Numeric_Features]=X_imputed[Numeric_Features].apply(np.log1p)\n",
        "X_imputed[Numeric_Features]=X_imputed[Numeric_Features].apply(zscore)\n",
        "X_imputed"
      ],
      "metadata": {
        "id": "OPeZORUx58du",
        "colab": {
          "base_uri": "https://localhost:8080/",
          "height": 487
        },
        "outputId": "a07bd84a-5c84-4165-c561-90f3c305e411"
      },
      "execution_count": 27,
      "outputs": [
        {
          "output_type": "execute_result",
          "data": {
            "text/plain": [
              "           age  cigsPerDay   totChol     sysBP     diaBP       BMI  heartRate  \\\n",
              "0     1.560602    0.020119 -0.282994  0.773215  0.248443 -0.030036   1.174479   \n",
              "1    -1.744449   -0.924209 -0.506064  1.571906  1.251457  1.012735  -0.271038   \n",
              "2    -0.341239    0.709211  0.378777 -0.759914 -1.017546 -1.463136   1.028726   \n",
              "3     0.137847    1.149687  0.000760  1.185127  0.492755  0.671868  -0.640635   \n",
              "4     1.560602    1.414986  0.181957  0.263874  0.248443  0.231896  -0.453233   \n",
              "...        ...         ...       ...       ...       ...       ...        ...   \n",
              "3385  1.188061   -0.924209  0.609966 -0.365923 -0.266846  0.903991  -0.453233   \n",
              "3386 -0.341239   -0.924209 -0.845504 -1.568069 -2.682067 -0.970644   0.410989   \n",
              "3387 -0.596302    0.020119  2.216878  1.420014  2.622119  0.822971  -0.181804   \n",
              "3388  1.188061   -0.924209 -1.065538  1.534273  1.738236 -0.667725   0.410989   \n",
              "3389  0.580739   -0.924209  1.138638 -0.340507 -0.447237  1.036909   0.329515   \n",
              "\n",
              "       glucose  is_smoking  BPMeds  prevalentStroke  prevalentHyp  diabetes  \\\n",
              "0     0.010829           1     0.0                0             0         0   \n",
              "1    -0.315204           0     0.0                0             1         0   \n",
              "2     0.826619           1     0.0                0             0         0   \n",
              "3     0.826619           1     0.0                0             1         0   \n",
              "4    -0.182287           1     0.0                0             0         0   \n",
              "...        ...         ...     ...              ...           ...       ...   \n",
              "3385  1.289778           0     0.0                0             0         0   \n",
              "3386  0.257479           0     0.0                0             0         0   \n",
              "3387 -0.521285           1     0.0                0             1         0   \n",
              "3388  0.317327           0     0.0                0             1         0   \n",
              "3389  0.717743           0     0.0                0             0         0   \n",
              "\n",
              "      education  sex_F  sex_M  education_imputed  \n",
              "0           2.0      1      0           1.744746  \n",
              "1           4.0      0      1           3.647809  \n",
              "2           1.0      1      0           1.054844  \n",
              "3           1.0      0      1           1.015174  \n",
              "4           1.0      1      0           0.978779  \n",
              "...         ...    ...    ...                ...  \n",
              "3385        1.0      1      0           0.986539  \n",
              "3386        1.0      1      0           1.057506  \n",
              "3387        3.0      0      1           2.710275  \n",
              "3388        1.0      0      1           0.579074  \n",
              "3389        3.0      1      0           2.786715  \n",
              "\n",
              "[3390 rows x 17 columns]"
            ],
            "text/html": [
              "\n",
              "  <div id=\"df-fca80f2a-ef8f-4c18-89b7-9b4edaeb35f7\">\n",
              "    <div class=\"colab-df-container\">\n",
              "      <div>\n",
              "<style scoped>\n",
              "    .dataframe tbody tr th:only-of-type {\n",
              "        vertical-align: middle;\n",
              "    }\n",
              "\n",
              "    .dataframe tbody tr th {\n",
              "        vertical-align: top;\n",
              "    }\n",
              "\n",
              "    .dataframe thead th {\n",
              "        text-align: right;\n",
              "    }\n",
              "</style>\n",
              "<table border=\"1\" class=\"dataframe\">\n",
              "  <thead>\n",
              "    <tr style=\"text-align: right;\">\n",
              "      <th></th>\n",
              "      <th>age</th>\n",
              "      <th>cigsPerDay</th>\n",
              "      <th>totChol</th>\n",
              "      <th>sysBP</th>\n",
              "      <th>diaBP</th>\n",
              "      <th>BMI</th>\n",
              "      <th>heartRate</th>\n",
              "      <th>glucose</th>\n",
              "      <th>is_smoking</th>\n",
              "      <th>BPMeds</th>\n",
              "      <th>prevalentStroke</th>\n",
              "      <th>prevalentHyp</th>\n",
              "      <th>diabetes</th>\n",
              "      <th>education</th>\n",
              "      <th>sex_F</th>\n",
              "      <th>sex_M</th>\n",
              "      <th>education_imputed</th>\n",
              "    </tr>\n",
              "  </thead>\n",
              "  <tbody>\n",
              "    <tr>\n",
              "      <th>0</th>\n",
              "      <td>1.560602</td>\n",
              "      <td>0.020119</td>\n",
              "      <td>-0.282994</td>\n",
              "      <td>0.773215</td>\n",
              "      <td>0.248443</td>\n",
              "      <td>-0.030036</td>\n",
              "      <td>1.174479</td>\n",
              "      <td>0.010829</td>\n",
              "      <td>1</td>\n",
              "      <td>0.0</td>\n",
              "      <td>0</td>\n",
              "      <td>0</td>\n",
              "      <td>0</td>\n",
              "      <td>2.0</td>\n",
              "      <td>1</td>\n",
              "      <td>0</td>\n",
              "      <td>1.744746</td>\n",
              "    </tr>\n",
              "    <tr>\n",
              "      <th>1</th>\n",
              "      <td>-1.744449</td>\n",
              "      <td>-0.924209</td>\n",
              "      <td>-0.506064</td>\n",
              "      <td>1.571906</td>\n",
              "      <td>1.251457</td>\n",
              "      <td>1.012735</td>\n",
              "      <td>-0.271038</td>\n",
              "      <td>-0.315204</td>\n",
              "      <td>0</td>\n",
              "      <td>0.0</td>\n",
              "      <td>0</td>\n",
              "      <td>1</td>\n",
              "      <td>0</td>\n",
              "      <td>4.0</td>\n",
              "      <td>0</td>\n",
              "      <td>1</td>\n",
              "      <td>3.647809</td>\n",
              "    </tr>\n",
              "    <tr>\n",
              "      <th>2</th>\n",
              "      <td>-0.341239</td>\n",
              "      <td>0.709211</td>\n",
              "      <td>0.378777</td>\n",
              "      <td>-0.759914</td>\n",
              "      <td>-1.017546</td>\n",
              "      <td>-1.463136</td>\n",
              "      <td>1.028726</td>\n",
              "      <td>0.826619</td>\n",
              "      <td>1</td>\n",
              "      <td>0.0</td>\n",
              "      <td>0</td>\n",
              "      <td>0</td>\n",
              "      <td>0</td>\n",
              "      <td>1.0</td>\n",
              "      <td>1</td>\n",
              "      <td>0</td>\n",
              "      <td>1.054844</td>\n",
              "    </tr>\n",
              "    <tr>\n",
              "      <th>3</th>\n",
              "      <td>0.137847</td>\n",
              "      <td>1.149687</td>\n",
              "      <td>0.000760</td>\n",
              "      <td>1.185127</td>\n",
              "      <td>0.492755</td>\n",
              "      <td>0.671868</td>\n",
              "      <td>-0.640635</td>\n",
              "      <td>0.826619</td>\n",
              "      <td>1</td>\n",
              "      <td>0.0</td>\n",
              "      <td>0</td>\n",
              "      <td>1</td>\n",
              "      <td>0</td>\n",
              "      <td>1.0</td>\n",
              "      <td>0</td>\n",
              "      <td>1</td>\n",
              "      <td>1.015174</td>\n",
              "    </tr>\n",
              "    <tr>\n",
              "      <th>4</th>\n",
              "      <td>1.560602</td>\n",
              "      <td>1.414986</td>\n",
              "      <td>0.181957</td>\n",
              "      <td>0.263874</td>\n",
              "      <td>0.248443</td>\n",
              "      <td>0.231896</td>\n",
              "      <td>-0.453233</td>\n",
              "      <td>-0.182287</td>\n",
              "      <td>1</td>\n",
              "      <td>0.0</td>\n",
              "      <td>0</td>\n",
              "      <td>0</td>\n",
              "      <td>0</td>\n",
              "      <td>1.0</td>\n",
              "      <td>1</td>\n",
              "      <td>0</td>\n",
              "      <td>0.978779</td>\n",
              "    </tr>\n",
              "    <tr>\n",
              "      <th>...</th>\n",
              "      <td>...</td>\n",
              "      <td>...</td>\n",
              "      <td>...</td>\n",
              "      <td>...</td>\n",
              "      <td>...</td>\n",
              "      <td>...</td>\n",
              "      <td>...</td>\n",
              "      <td>...</td>\n",
              "      <td>...</td>\n",
              "      <td>...</td>\n",
              "      <td>...</td>\n",
              "      <td>...</td>\n",
              "      <td>...</td>\n",
              "      <td>...</td>\n",
              "      <td>...</td>\n",
              "      <td>...</td>\n",
              "      <td>...</td>\n",
              "    </tr>\n",
              "    <tr>\n",
              "      <th>3385</th>\n",
              "      <td>1.188061</td>\n",
              "      <td>-0.924209</td>\n",
              "      <td>0.609966</td>\n",
              "      <td>-0.365923</td>\n",
              "      <td>-0.266846</td>\n",
              "      <td>0.903991</td>\n",
              "      <td>-0.453233</td>\n",
              "      <td>1.289778</td>\n",
              "      <td>0</td>\n",
              "      <td>0.0</td>\n",
              "      <td>0</td>\n",
              "      <td>0</td>\n",
              "      <td>0</td>\n",
              "      <td>1.0</td>\n",
              "      <td>1</td>\n",
              "      <td>0</td>\n",
              "      <td>0.986539</td>\n",
              "    </tr>\n",
              "    <tr>\n",
              "      <th>3386</th>\n",
              "      <td>-0.341239</td>\n",
              "      <td>-0.924209</td>\n",
              "      <td>-0.845504</td>\n",
              "      <td>-1.568069</td>\n",
              "      <td>-2.682067</td>\n",
              "      <td>-0.970644</td>\n",
              "      <td>0.410989</td>\n",
              "      <td>0.257479</td>\n",
              "      <td>0</td>\n",
              "      <td>0.0</td>\n",
              "      <td>0</td>\n",
              "      <td>0</td>\n",
              "      <td>0</td>\n",
              "      <td>1.0</td>\n",
              "      <td>1</td>\n",
              "      <td>0</td>\n",
              "      <td>1.057506</td>\n",
              "    </tr>\n",
              "    <tr>\n",
              "      <th>3387</th>\n",
              "      <td>-0.596302</td>\n",
              "      <td>0.020119</td>\n",
              "      <td>2.216878</td>\n",
              "      <td>1.420014</td>\n",
              "      <td>2.622119</td>\n",
              "      <td>0.822971</td>\n",
              "      <td>-0.181804</td>\n",
              "      <td>-0.521285</td>\n",
              "      <td>1</td>\n",
              "      <td>0.0</td>\n",
              "      <td>0</td>\n",
              "      <td>1</td>\n",
              "      <td>0</td>\n",
              "      <td>3.0</td>\n",
              "      <td>0</td>\n",
              "      <td>1</td>\n",
              "      <td>2.710275</td>\n",
              "    </tr>\n",
              "    <tr>\n",
              "      <th>3388</th>\n",
              "      <td>1.188061</td>\n",
              "      <td>-0.924209</td>\n",
              "      <td>-1.065538</td>\n",
              "      <td>1.534273</td>\n",
              "      <td>1.738236</td>\n",
              "      <td>-0.667725</td>\n",
              "      <td>0.410989</td>\n",
              "      <td>0.317327</td>\n",
              "      <td>0</td>\n",
              "      <td>0.0</td>\n",
              "      <td>0</td>\n",
              "      <td>1</td>\n",
              "      <td>0</td>\n",
              "      <td>1.0</td>\n",
              "      <td>0</td>\n",
              "      <td>1</td>\n",
              "      <td>0.579074</td>\n",
              "    </tr>\n",
              "    <tr>\n",
              "      <th>3389</th>\n",
              "      <td>0.580739</td>\n",
              "      <td>-0.924209</td>\n",
              "      <td>1.138638</td>\n",
              "      <td>-0.340507</td>\n",
              "      <td>-0.447237</td>\n",
              "      <td>1.036909</td>\n",
              "      <td>0.329515</td>\n",
              "      <td>0.717743</td>\n",
              "      <td>0</td>\n",
              "      <td>0.0</td>\n",
              "      <td>0</td>\n",
              "      <td>0</td>\n",
              "      <td>0</td>\n",
              "      <td>3.0</td>\n",
              "      <td>1</td>\n",
              "      <td>0</td>\n",
              "      <td>2.786715</td>\n",
              "    </tr>\n",
              "  </tbody>\n",
              "</table>\n",
              "<p>3390 rows × 17 columns</p>\n",
              "</div>\n",
              "      <button class=\"colab-df-convert\" onclick=\"convertToInteractive('df-fca80f2a-ef8f-4c18-89b7-9b4edaeb35f7')\"\n",
              "              title=\"Convert this dataframe to an interactive table.\"\n",
              "              style=\"display:none;\">\n",
              "        \n",
              "  <svg xmlns=\"http://www.w3.org/2000/svg\" height=\"24px\"viewBox=\"0 0 24 24\"\n",
              "       width=\"24px\">\n",
              "    <path d=\"M0 0h24v24H0V0z\" fill=\"none\"/>\n",
              "    <path d=\"M18.56 5.44l.94 2.06.94-2.06 2.06-.94-2.06-.94-.94-2.06-.94 2.06-2.06.94zm-11 1L8.5 8.5l.94-2.06 2.06-.94-2.06-.94L8.5 2.5l-.94 2.06-2.06.94zm10 10l.94 2.06.94-2.06 2.06-.94-2.06-.94-.94-2.06-.94 2.06-2.06.94z\"/><path d=\"M17.41 7.96l-1.37-1.37c-.4-.4-.92-.59-1.43-.59-.52 0-1.04.2-1.43.59L10.3 9.45l-7.72 7.72c-.78.78-.78 2.05 0 2.83L4 21.41c.39.39.9.59 1.41.59.51 0 1.02-.2 1.41-.59l7.78-7.78 2.81-2.81c.8-.78.8-2.07 0-2.86zM5.41 20L4 18.59l7.72-7.72 1.47 1.35L5.41 20z\"/>\n",
              "  </svg>\n",
              "      </button>\n",
              "      \n",
              "  <style>\n",
              "    .colab-df-container {\n",
              "      display:flex;\n",
              "      flex-wrap:wrap;\n",
              "      gap: 12px;\n",
              "    }\n",
              "\n",
              "    .colab-df-convert {\n",
              "      background-color: #E8F0FE;\n",
              "      border: none;\n",
              "      border-radius: 50%;\n",
              "      cursor: pointer;\n",
              "      display: none;\n",
              "      fill: #1967D2;\n",
              "      height: 32px;\n",
              "      padding: 0 0 0 0;\n",
              "      width: 32px;\n",
              "    }\n",
              "\n",
              "    .colab-df-convert:hover {\n",
              "      background-color: #E2EBFA;\n",
              "      box-shadow: 0px 1px 2px rgba(60, 64, 67, 0.3), 0px 1px 3px 1px rgba(60, 64, 67, 0.15);\n",
              "      fill: #174EA6;\n",
              "    }\n",
              "\n",
              "    [theme=dark] .colab-df-convert {\n",
              "      background-color: #3B4455;\n",
              "      fill: #D2E3FC;\n",
              "    }\n",
              "\n",
              "    [theme=dark] .colab-df-convert:hover {\n",
              "      background-color: #434B5C;\n",
              "      box-shadow: 0px 1px 3px 1px rgba(0, 0, 0, 0.15);\n",
              "      filter: drop-shadow(0px 1px 2px rgba(0, 0, 0, 0.3));\n",
              "      fill: #FFFFFF;\n",
              "    }\n",
              "  </style>\n",
              "\n",
              "      <script>\n",
              "        const buttonEl =\n",
              "          document.querySelector('#df-fca80f2a-ef8f-4c18-89b7-9b4edaeb35f7 button.colab-df-convert');\n",
              "        buttonEl.style.display =\n",
              "          google.colab.kernel.accessAllowed ? 'block' : 'none';\n",
              "\n",
              "        async function convertToInteractive(key) {\n",
              "          const element = document.querySelector('#df-fca80f2a-ef8f-4c18-89b7-9b4edaeb35f7');\n",
              "          const dataTable =\n",
              "            await google.colab.kernel.invokeFunction('convertToInteractive',\n",
              "                                                     [key], {});\n",
              "          if (!dataTable) return;\n",
              "\n",
              "          const docLinkHtml = 'Like what you see? Visit the ' +\n",
              "            '<a target=\"_blank\" href=https://colab.research.google.com/notebooks/data_table.ipynb>data table notebook</a>'\n",
              "            + ' to learn more about interactive tables.';\n",
              "          element.innerHTML = '';\n",
              "          dataTable['output_type'] = 'display_data';\n",
              "          await google.colab.output.renderOutput(dataTable, element);\n",
              "          const docLink = document.createElement('div');\n",
              "          docLink.innerHTML = docLinkHtml;\n",
              "          element.appendChild(docLink);\n",
              "        }\n",
              "      </script>\n",
              "    </div>\n",
              "  </div>\n",
              "  "
            ]
          },
          "metadata": {},
          "execution_count": 27
        }
      ]
    },
    {
      "cell_type": "markdown",
      "source": [
        "## Logistic Regression"
      ],
      "metadata": {
        "id": "MfWyT8_qylrc"
      }
    },
    {
      "cell_type": "code",
      "source": [
        "X_train,X_test,y_train,y_test=train_test_split(X_imputed,y,test_size=0.2,random_state=0)\n"
      ],
      "metadata": {
        "id": "yFWpspKq6lZI"
      },
      "execution_count": 28,
      "outputs": []
    },
    {
      "cell_type": "code",
      "source": [
        "from sklearn.linear_model import LogisticRegression\n",
        "from sklearn.linear_model import LogisticRegressionCV\n",
        "from sklearn.model_selection import GridSearchCV\n",
        "LgR_model=LogisticRegression(max_iter=10000)\n",
        "LgR_model.fit(X_train,y_train)"
      ],
      "metadata": {
        "colab": {
          "base_uri": "https://localhost:8080/"
        },
        "id": "-LSTnCoSzAh_",
        "outputId": "281ae94a-7dac-4f75-ba62-66f2d0e0a003"
      },
      "execution_count": 29,
      "outputs": [
        {
          "output_type": "execute_result",
          "data": {
            "text/plain": [
              "LogisticRegression(max_iter=10000)"
            ]
          },
          "metadata": {},
          "execution_count": 29
        }
      ]
    },
    {
      "cell_type": "code",
      "source": [
        "train_preds=LgR_model.predict_log_proba(X_train)[:,1]\n",
        "test_preds=LgR_model.predict_log_proba(X_test)[:,1]\n"
      ],
      "metadata": {
        "id": "rIp5suDW1FAi"
      },
      "execution_count": 30,
      "outputs": []
    },
    {
      "cell_type": "code",
      "source": [
        "train_class_preds = LgR_model.predict(X_train)\n",
        "test_class_preds =LgR_model.predict(X_test)"
      ],
      "metadata": {
        "id": "h3_BymCw1GMP"
      },
      "execution_count": 31,
      "outputs": []
    },
    {
      "cell_type": "code",
      "source": [
        "from sklearn.metrics import accuracy_score, confusion_matrix\n",
        "\n"
      ],
      "metadata": {
        "id": "oPjszxDL1Y5Z"
      },
      "execution_count": 32,
      "outputs": []
    },
    {
      "cell_type": "code",
      "source": [
        "train_accuracy = accuracy_score(train_class_preds,y_train)\n",
        "test_accuracy = accuracy_score(test_class_preds,y_test)\n",
        "print('LogisticRegression')\n",
        "print(\"The accuracy on train data is \", train_accuracy)\n",
        "print(\"The accuracy on test data is \", test_accuracy)"
      ],
      "metadata": {
        "id": "vh6hxP2h1a7O",
        "outputId": "5d6d3d80-af8d-4dad-d40e-2ff7f3a95fa1",
        "colab": {
          "base_uri": "https://localhost:8080/"
        }
      },
      "execution_count": 33,
      "outputs": [
        {
          "output_type": "stream",
          "name": "stdout",
          "text": [
            "LogisticRegression\n",
            "The accuracy on train data is  0.8595132743362832\n",
            "The accuracy on test data is  0.855457227138643\n"
          ]
        }
      ]
    },
    {
      "cell_type": "code",
      "source": [
        "LgR_model_CV = LogisticRegressionCV(\n",
        "        Cs=list(np.power(10.0, np.arange(-10, 10)))\n",
        "        ,penalty='l2'\n",
        "        ,scoring='roc_auc'\n",
        "        ,random_state=0,\n",
        "        cv=15\n",
        "        ,max_iter=10000\n",
        "        ,fit_intercept=True\n",
        "        ,tol=10)\n",
        "LgR_model_CV.fit(X_train,y_train)\n"
      ],
      "metadata": {
        "id": "DTMfyUk-qBB2",
        "colab": {
          "base_uri": "https://localhost:8080/"
        },
        "outputId": "fcea15fc-1d7a-480c-c2e1-c9205b557550"
      },
      "execution_count": 34,
      "outputs": [
        {
          "output_type": "execute_result",
          "data": {
            "text/plain": [
              "LogisticRegressionCV(Cs=[1e-10, 1e-09, 1e-08, 1e-07, 1e-06, 1e-05, 0.0001,\n",
              "                         0.001, 0.01, 0.1, 1.0, 10.0, 100.0, 1000.0, 10000.0,\n",
              "                         100000.0, 1000000.0, 10000000.0, 100000000.0,\n",
              "                         1000000000.0],\n",
              "                     cv=15, max_iter=10000, random_state=0, scoring='roc_auc',\n",
              "                     tol=10)"
            ]
          },
          "metadata": {},
          "execution_count": 34
        }
      ]
    },
    {
      "cell_type": "code",
      "source": [
        "train_class_preds = LgR_model_CV.predict(X_train)\n",
        "test_class_preds =LgR_model_CV.predict(X_test)"
      ],
      "metadata": {
        "id": "bh9lY68yiw9_"
      },
      "execution_count": 35,
      "outputs": []
    },
    {
      "cell_type": "code",
      "source": [
        "train_accuracy = accuracy_score(train_class_preds,y_train)\n",
        "test_accuracy = accuracy_score(test_class_preds,y_test)\n",
        "print('LogisticRegression CV')\n",
        "print(\"The accuracy on train data is \", train_accuracy)\n",
        "print(\"The accuracy on test data is \", test_accuracy)"
      ],
      "metadata": {
        "colab": {
          "base_uri": "https://localhost:8080/"
        },
        "id": "ZzypKuPpizc3",
        "outputId": "572f4355-b7cb-428e-e068-ea572f2556d8"
      },
      "execution_count": 36,
      "outputs": [
        {
          "output_type": "stream",
          "name": "stdout",
          "text": [
            "LogisticRegression CV\n",
            "The accuracy on train data is  0.8576696165191741\n",
            "The accuracy on test data is  0.8539823008849557\n"
          ]
        }
      ]
    },
    {
      "cell_type": "code",
      "source": [
        "print ('Max roc-auc:', LgR_model_CV.scores_[1].max())"
      ],
      "metadata": {
        "colab": {
          "base_uri": "https://localhost:8080/"
        },
        "id": "MfDJUcwEjipU",
        "outputId": "d40574fd-ce5f-483b-ead4-23e4e81bf48d"
      },
      "execution_count": 37,
      "outputs": [
        {
          "output_type": "stream",
          "name": "stdout",
          "text": [
            "Max roc-auc: 0.8249158249158249\n"
          ]
        }
      ]
    },
    {
      "cell_type": "code",
      "source": [
        "confusion_matrix(y_test,test_class_preds)"
      ],
      "metadata": {
        "colab": {
          "base_uri": "https://localhost:8080/"
        },
        "id": "nE5oWzSt-d7_",
        "outputId": "d7980f32-1a8b-4b63-b36f-8bbcea4bd05a"
      },
      "execution_count": 38,
      "outputs": [
        {
          "output_type": "execute_result",
          "data": {
            "text/plain": [
              "array([[571,   3],\n",
              "       [ 96,   8]])"
            ]
          },
          "metadata": {},
          "execution_count": 38
        }
      ]
    },
    {
      "cell_type": "markdown",
      "source": [
        "# Random Forest"
      ],
      "metadata": {
        "id": "ZK0iWm0DALLK"
      }
    },
    {
      "cell_type": "code",
      "source": [
        "\n",
        "from sklearn.ensemble import RandomForestClassifier\n",
        "from sklearn.ensemble import GradientBoostingClassifier\n",
        "from sklearn.model_selection import GridSearchCV\n",
        "from sklearn.metrics import roc_auc_score, confusion_matrix, accuracy_score,classification_report,f1_score\n",
        "\n"
      ],
      "metadata": {
        "id": "-zs_pl-aAH7k"
      },
      "execution_count": 96,
      "outputs": []
    },
    {
      "cell_type": "code",
      "source": [
        "RF_model=RandomForestClassifier()\n",
        "grid_values={'n_estimators':[50,80,100],'max_depth':[3,5,7]}\n",
        "RF_model_CV=GridSearchCV(RF_model,param_grid=grid_values,scoring='roc_auc',cv=5)\n",
        "RF_model_CV.fit(X_train,y_train)\n"
      ],
      "metadata": {
        "colab": {
          "base_uri": "https://localhost:8080/"
        },
        "id": "HHQ-Q1o9VWLD",
        "outputId": "81c54a37-581c-4ad9-8bb8-e405e0f21496"
      },
      "execution_count": 40,
      "outputs": [
        {
          "output_type": "execute_result",
          "data": {
            "text/plain": [
              "GridSearchCV(cv=5, estimator=RandomForestClassifier(),\n",
              "             param_grid={'max_depth': [3, 5, 7], 'n_estimators': [50, 80, 100]},\n",
              "             scoring='roc_auc')"
            ]
          },
          "metadata": {},
          "execution_count": 40
        }
      ]
    },
    {
      "cell_type": "code",
      "source": [
        "train_preds =  RF_model_CV.predict(X_train)\n",
        "test_preds  = RF_model_CV.predict(X_test)"
      ],
      "metadata": {
        "id": "oyHgNFmvq6K7"
      },
      "execution_count": 41,
      "outputs": []
    },
    {
      "cell_type": "code",
      "source": [
        "roc_auc_score(y_train,train_preds)"
      ],
      "metadata": {
        "colab": {
          "base_uri": "https://localhost:8080/"
        },
        "id": "QDD17cZrrCHK",
        "outputId": "f98c525f-3cfc-424e-f214-2011f26433f6"
      },
      "execution_count": 42,
      "outputs": [
        {
          "output_type": "execute_result",
          "data": {
            "text/plain": [
              "0.5810810810810811"
            ]
          },
          "metadata": {},
          "execution_count": 42
        }
      ]
    },
    {
      "cell_type": "code",
      "source": [
        "roc_auc_score(y_test,test_preds)"
      ],
      "metadata": {
        "colab": {
          "base_uri": "https://localhost:8080/"
        },
        "id": "CEaIjRXzrK7e",
        "outputId": "3b50c108-db95-4624-e1f5-52f5a5b76893"
      },
      "execution_count": 43,
      "outputs": [
        {
          "output_type": "execute_result",
          "data": {
            "text/plain": [
              "0.4978390511927097"
            ]
          },
          "metadata": {},
          "execution_count": 43
        }
      ]
    },
    {
      "cell_type": "code",
      "source": [
        "confusion_matrix(y_train,train_preds)"
      ],
      "metadata": {
        "colab": {
          "base_uri": "https://localhost:8080/"
        },
        "id": "o-3om1XrrP7S",
        "outputId": "98e29e3d-e621-4735-c088-26726c58a094"
      },
      "execution_count": 44,
      "outputs": [
        {
          "output_type": "execute_result",
          "data": {
            "text/plain": [
              "array([[2305,    0],\n",
              "       [ 341,   66]])"
            ]
          },
          "metadata": {},
          "execution_count": 44
        }
      ]
    },
    {
      "cell_type": "code",
      "source": [
        "confusion_matrix(y_test,test_preds)"
      ],
      "metadata": {
        "colab": {
          "base_uri": "https://localhost:8080/"
        },
        "id": "G8kggJegrl1R",
        "outputId": "ab28ca7a-5460-45b5-d794-1d983d26169b"
      },
      "execution_count": 45,
      "outputs": [
        {
          "output_type": "execute_result",
          "data": {
            "text/plain": [
              "array([[566,   8],\n",
              "       [103,   1]])"
            ]
          },
          "metadata": {},
          "execution_count": 45
        }
      ]
    },
    {
      "cell_type": "code",
      "source": [
        ""
      ],
      "metadata": {
        "id": "JCF-4hk6rtIY"
      },
      "execution_count": 45,
      "outputs": []
    },
    {
      "cell_type": "markdown",
      "source": [
        "Using SMOTE for balancing"
      ],
      "metadata": {
        "id": "kyDPWYmPRNF7"
      }
    },
    {
      "cell_type": "markdown",
      "source": [
        "# SMOTE"
      ],
      "metadata": {
        "id": "EVFRbgLh5stj"
      }
    },
    {
      "cell_type": "code",
      "source": [
        "from imblearn.over_sampling import SMOTE \n",
        "from imblearn.under_sampling import RandomUnderSampler \n",
        "from imblearn.pipeline import Pipeline,make_pipeline"
      ],
      "metadata": {
        "id": "nUtHe3XuR2aX"
      },
      "execution_count": 46,
      "outputs": []
    },
    {
      "cell_type": "code",
      "source": [
        "over = SMOTE()"
      ],
      "metadata": {
        "id": "__yTlHL-RTwx"
      },
      "execution_count": 47,
      "outputs": []
    },
    {
      "cell_type": "code",
      "source": [
        "# !pip install scikit-learn==0.23.1\n",
        "# !pip install imbalanced-learn==0.7.0"
      ],
      "metadata": {
        "id": "TxDcy-hNBjj7"
      },
      "execution_count": 48,
      "outputs": []
    },
    {
      "cell_type": "code",
      "source": [
        "X_rescaled,y_rescaled=over.fit_resample(X_imputed,y)\n"
      ],
      "metadata": {
        "id": "syg_eZFMR9XD"
      },
      "execution_count": 49,
      "outputs": []
    },
    {
      "cell_type": "code",
      "source": [
        "print('Label Size before ',y.shape[0])\n",
        "print('Label Size After ',y_rescaled.shape[0])"
      ],
      "metadata": {
        "colab": {
          "base_uri": "https://localhost:8080/"
        },
        "id": "LMmwDV9VSC51",
        "outputId": "b8ce9285-54cb-4cb3-ffc0-fb79a81b26e1"
      },
      "execution_count": 50,
      "outputs": [
        {
          "output_type": "stream",
          "name": "stdout",
          "text": [
            "Label Size before  3390\n",
            "Label Size After  5758\n"
          ]
        }
      ]
    },
    {
      "cell_type": "code",
      "source": [
        "over = SMOTE()\n",
        "under = RandomUnderSampler()\n",
        "steps = [('o', over), ('u', under)]\n",
        "pipeline = Pipeline(steps=steps)"
      ],
      "metadata": {
        "id": "J4KfIqD-qPUO"
      },
      "execution_count": 51,
      "outputs": []
    },
    {
      "cell_type": "code",
      "source": [
        "X_rescaled,y_rescaled=pipeline.fit_resample(X_imputed,y)"
      ],
      "metadata": {
        "id": "Kfb_bMfl1fA1"
      },
      "execution_count": 52,
      "outputs": []
    },
    {
      "cell_type": "code",
      "source": [
        "print('Label Size before ',y.shape[0])\n",
        "print('Label Size After ',y_rescaled.shape[0])"
      ],
      "metadata": {
        "colab": {
          "base_uri": "https://localhost:8080/"
        },
        "id": "Dvq5mmS61o4c",
        "outputId": "224e932e-6cd8-4905-a04d-0223ec23cc5f"
      },
      "execution_count": 53,
      "outputs": [
        {
          "output_type": "stream",
          "name": "stdout",
          "text": [
            "Label Size before  3390\n",
            "Label Size After  5758\n"
          ]
        }
      ]
    },
    {
      "cell_type": "code",
      "source": [
        "X_train_sm,X_test_sm,y_train_sm,y_test_sm=train_test_split(X_rescaled,y_rescaled,test_size=0.2,random_state=0)\n"
      ],
      "metadata": {
        "id": "dtn9iC1d1svF"
      },
      "execution_count": 54,
      "outputs": []
    },
    {
      "cell_type": "markdown",
      "source": [
        "## RF"
      ],
      "metadata": {
        "id": "sMwuKzPz5zS5"
      }
    },
    {
      "cell_type": "code",
      "source": [
        "RF_model=RandomForestClassifier()\n",
        "grid_values={'n_estimators':[50,100,200],'max_depth':[3,5,7]}\n",
        "RF_model_CV=GridSearchCV(RF_model,param_grid=grid_values,scoring='roc_auc',cv=7)\n",
        "RF_model_CV.fit(X_train_sm,y_train_sm)\n"
      ],
      "metadata": {
        "colab": {
          "base_uri": "https://localhost:8080/"
        },
        "id": "rcOeyLvT1-L8",
        "outputId": "f0909463-78ef-43d9-8ac2-6a4ed9418baa"
      },
      "execution_count": 55,
      "outputs": [
        {
          "output_type": "execute_result",
          "data": {
            "text/plain": [
              "GridSearchCV(cv=7, estimator=RandomForestClassifier(),\n",
              "             param_grid={'max_depth': [3, 5, 7],\n",
              "                         'n_estimators': [50, 100, 200]},\n",
              "             scoring='roc_auc')"
            ]
          },
          "metadata": {},
          "execution_count": 55
        }
      ]
    },
    {
      "cell_type": "code",
      "source": [
        "RF_model = RF_model_CV.best_estimator_"
      ],
      "metadata": {
        "id": "PmuhPAfq6Ikj"
      },
      "execution_count": 56,
      "outputs": []
    },
    {
      "cell_type": "code",
      "source": [
        "train_preds =  RF_model.predict(X_train_sm)\n",
        "test_preds  = RF_model.predict(X_test_sm)"
      ],
      "metadata": {
        "id": "jOCfVPiq4Sj1"
      },
      "execution_count": 57,
      "outputs": []
    },
    {
      "cell_type": "code",
      "source": [
        "roc_auc_score(y_train_sm,train_preds)"
      ],
      "metadata": {
        "colab": {
          "base_uri": "https://localhost:8080/"
        },
        "id": "OSpV_5j-4eHN",
        "outputId": "0b6e3995-2daf-4543-d65a-67b6d6aae7b8"
      },
      "execution_count": 58,
      "outputs": [
        {
          "output_type": "execute_result",
          "data": {
            "text/plain": [
              "0.8363834336395312"
            ]
          },
          "metadata": {},
          "execution_count": 58
        }
      ]
    },
    {
      "cell_type": "code",
      "source": [
        "roc_auc_score(y_test_sm,test_preds)"
      ],
      "metadata": {
        "colab": {
          "base_uri": "https://localhost:8080/"
        },
        "id": "lN6sZbMz4_wl",
        "outputId": "49b5b04b-3ea5-4161-c247-73775ed72dec"
      },
      "execution_count": 59,
      "outputs": [
        {
          "output_type": "execute_result",
          "data": {
            "text/plain": [
              "0.7663003011512479"
            ]
          },
          "metadata": {},
          "execution_count": 59
        }
      ]
    },
    {
      "cell_type": "code",
      "source": [
        "train_accuracy = accuracy_score(y_train_sm,train_preds)\n",
        "test_accuracy = accuracy_score(y_test_sm,test_preds)\n",
        "print('RF CV+SMOTE')\n",
        "print(\"The accuracy on train data is \", train_accuracy)\n",
        "print(\"The accuracy on test data is \", test_accuracy)"
      ],
      "metadata": {
        "colab": {
          "base_uri": "https://localhost:8080/"
        },
        "id": "8CYWCUwn5AR-",
        "outputId": "f6b5c8b5-e316-4220-dd24-89d73cf218c9"
      },
      "execution_count": 60,
      "outputs": [
        {
          "output_type": "stream",
          "name": "stdout",
          "text": [
            "RF CV+SMOTE\n",
            "The accuracy on train data is  0.8363004776378636\n",
            "The accuracy on test data is  0.7664930555555556\n"
          ]
        }
      ]
    },
    {
      "cell_type": "code",
      "source": [
        ""
      ],
      "metadata": {
        "id": "R1z6jqFz5maj"
      },
      "execution_count": 60,
      "outputs": []
    },
    {
      "cell_type": "markdown",
      "source": [
        "## XGBoost"
      ],
      "metadata": {
        "id": "1VaCtZrC51U9"
      }
    },
    {
      "cell_type": "code",
      "source": [
        "from xgboost import XGBClassifier\n"
      ],
      "metadata": {
        "id": "qYL2reuY53si"
      },
      "execution_count": 61,
      "outputs": []
    },
    {
      "cell_type": "code",
      "source": [
        "XGB = XGBClassifier(colsample_bytree = 1, learning_rate = 0.1,max_depth= 8,\n",
        "                    min_child_weight= 1, alpha = 10, n_estimators = 200)\n"
      ],
      "metadata": {
        "id": "w3lMQWNV6vDW"
      },
      "execution_count": 62,
      "outputs": []
    },
    {
      "cell_type": "code",
      "source": [
        "XGB.fit(X_train_sm,y_train_sm)"
      ],
      "metadata": {
        "colab": {
          "base_uri": "https://localhost:8080/"
        },
        "id": "0LKaT_8b6_vm",
        "outputId": "485600cc-c0d1-4fcd-9eb7-80696fcf7512"
      },
      "execution_count": 63,
      "outputs": [
        {
          "output_type": "execute_result",
          "data": {
            "text/plain": [
              "XGBClassifier(alpha=10, max_depth=8, n_estimators=200)"
            ]
          },
          "metadata": {},
          "execution_count": 63
        }
      ]
    },
    {
      "cell_type": "code",
      "source": [
        "train_preds =  XGB.predict(X_train_sm)\n",
        "test_preds  = XGB.predict(X_test_sm)"
      ],
      "metadata": {
        "id": "aePjTtuU7Hf9"
      },
      "execution_count": 64,
      "outputs": []
    },
    {
      "cell_type": "code",
      "source": [
        "roc_auc_score(y_train_sm,train_preds)"
      ],
      "metadata": {
        "colab": {
          "base_uri": "https://localhost:8080/"
        },
        "id": "Xfg33Yr57LOd",
        "outputId": "10ce889d-61fc-4f59-8ce3-e5fbf34bc86d"
      },
      "execution_count": 65,
      "outputs": [
        {
          "output_type": "execute_result",
          "data": {
            "text/plain": [
              "0.9982578397212544"
            ]
          },
          "metadata": {},
          "execution_count": 65
        }
      ]
    },
    {
      "cell_type": "code",
      "source": [
        "roc_auc_score(y_test_sm,test_preds)\n"
      ],
      "metadata": {
        "colab": {
          "base_uri": "https://localhost:8080/"
        },
        "id": "wgsKYx0z7Ocs",
        "outputId": "8d0f1b4d-1af7-43a0-a2f8-ff994a116c49"
      },
      "execution_count": 66,
      "outputs": [
        {
          "output_type": "execute_result",
          "data": {
            "text/plain": [
              "0.9115507631275115"
            ]
          },
          "metadata": {},
          "execution_count": 66
        }
      ]
    },
    {
      "cell_type": "code",
      "source": [
        "confusion_matrix(y_train_sm,train_preds)"
      ],
      "metadata": {
        "colab": {
          "base_uri": "https://localhost:8080/"
        },
        "id": "tUOUlzh59bFu",
        "outputId": "856505bb-1d17-4458-e57a-9c80edad972e"
      },
      "execution_count": 67,
      "outputs": [
        {
          "output_type": "execute_result",
          "data": {
            "text/plain": [
              "array([[2310,    0],\n",
              "       [   8, 2288]])"
            ]
          },
          "metadata": {},
          "execution_count": 67
        }
      ]
    },
    {
      "cell_type": "code",
      "source": [
        "confusion_matrix(y_test_sm,test_preds)"
      ],
      "metadata": {
        "colab": {
          "base_uri": "https://localhost:8080/"
        },
        "id": "SmPjCMSZ9b2R",
        "outputId": "9aa5c288-00f4-493d-b6dc-0cefc5b80792"
      },
      "execution_count": 68,
      "outputs": [
        {
          "output_type": "execute_result",
          "data": {
            "text/plain": [
              "array([[523,  46],\n",
              "       [ 56, 527]])"
            ]
          },
          "metadata": {},
          "execution_count": 68
        }
      ]
    },
    {
      "cell_type": "code",
      "source": [
        "print(classification_report(y_train_sm,train_preds))"
      ],
      "metadata": {
        "id": "TBiEIoB67QX0",
        "colab": {
          "base_uri": "https://localhost:8080/"
        },
        "outputId": "249a524e-1042-41a8-f370-5a76d8f83210"
      },
      "execution_count": 69,
      "outputs": [
        {
          "output_type": "stream",
          "name": "stdout",
          "text": [
            "              precision    recall  f1-score   support\n",
            "\n",
            "           0       1.00      1.00      1.00      2310\n",
            "           1       1.00      1.00      1.00      2296\n",
            "\n",
            "    accuracy                           1.00      4606\n",
            "   macro avg       1.00      1.00      1.00      4606\n",
            "weighted avg       1.00      1.00      1.00      4606\n",
            "\n"
          ]
        }
      ]
    },
    {
      "cell_type": "code",
      "source": [
        "print(classification_report(y_test_sm,test_preds))"
      ],
      "metadata": {
        "colab": {
          "base_uri": "https://localhost:8080/"
        },
        "id": "gkqasbS87iTu",
        "outputId": "b16435ff-5136-4e3e-a1c4-74407ca2950a"
      },
      "execution_count": 70,
      "outputs": [
        {
          "output_type": "stream",
          "name": "stdout",
          "text": [
            "              precision    recall  f1-score   support\n",
            "\n",
            "           0       0.90      0.92      0.91       569\n",
            "           1       0.92      0.90      0.91       583\n",
            "\n",
            "    accuracy                           0.91      1152\n",
            "   macro avg       0.91      0.91      0.91      1152\n",
            "weighted avg       0.91      0.91      0.91      1152\n",
            "\n"
          ]
        }
      ]
    },
    {
      "cell_type": "code",
      "source": [
        "features = X_train_sm.columns\n",
        "importances = XGB.feature_importances_\n",
        "indices = np.argsort(importances)"
      ],
      "metadata": {
        "id": "o8TUEUwA1f7O"
      },
      "execution_count": 71,
      "outputs": []
    },
    {
      "cell_type": "code",
      "source": [
        "plt.figure(figsize=(12,9))\n",
        "plt.title('Feature Importance')\n",
        "plt.barh(range(len(indices)), importances[indices], color='red', align='center')\n",
        "plt.yticks(range(len(indices)), [features[i] for i in indices])\n",
        "plt.xlabel('Relative Importance')\n",
        "plt.show()"
      ],
      "metadata": {
        "colab": {
          "base_uri": "https://localhost:8080/",
          "height": 455
        },
        "id": "podVN0Fe1oVT",
        "outputId": "78bc30e3-fbd8-4b7b-9c55-c131cf80b31b"
      },
      "execution_count": 72,
      "outputs": [
        {
          "output_type": "display_data",
          "data": {
            "text/plain": [
              "<Figure size 864x648 with 1 Axes>"
            ],
            "image/png": "[encoded data removed]"
          },
          "metadata": {
            "needs_background": "light"
          }
        }
      ]
    },
    {
      "cell_type": "markdown",
      "source": [
        "## Naive-Bayes"
      ],
      "metadata": {
        "id": "Eey8nYjF2CTm"
      }
    },
    {
      "cell_type": "code",
      "source": [
        "from sklearn.naive_bayes import GaussianNB\n"
      ],
      "metadata": {
        "id": "lOCcOL5y7n-S"
      },
      "execution_count": 91,
      "outputs": []
    },
    {
      "cell_type": "code",
      "source": [
        "nb_classifier = GaussianNB()\n",
        "\n",
        "params_NB = {'var_smoothing': np.logspace(0,-12, num=200)}\n",
        "gs_NB = GridSearchCV(estimator=nb_classifier, \n",
        "                 param_grid=params_NB, \n",
        "                 verbose=1, \n",
        "                 scoring='accuracy') \n",
        "gs_NB.fit(X_train_sm, y_train_sm)\n",
        "\n",
        "gs_NB.best_params_"
      ],
      "metadata": {
        "colab": {
          "base_uri": "https://localhost:8080/"
        },
        "id": "PjXADEeO3NBt",
        "outputId": "2914626a-4899-4dfb-8c04-b2757d80cbbe"
      },
      "execution_count": 100,
      "outputs": [
        {
          "output_type": "stream",
          "name": "stdout",
          "text": [
            "Fitting 5 folds for each of 200 candidates, totalling 1000 fits\n"
          ]
        },
        {
          "output_type": "stream",
          "name": "stderr",
          "text": [
            "[Parallel(n_jobs=1)]: Using backend SequentialBackend with 1 concurrent workers.\n",
            "[Parallel(n_jobs=1)]: Done 1000 out of 1000 | elapsed:    7.3s finished\n"
          ]
        },
        {
          "output_type": "execute_result",
          "data": {
            "text/plain": [
              "{'var_smoothing': 0.21711179456945043}"
            ]
          },
          "metadata": {},
          "execution_count": 100
        }
      ]
    },
    {
      "cell_type": "code",
      "source": [
        "train_preds =gs_NB.predict(X_train_sm)\n",
        "test_preds  = gs_NB.predict(X_test_sm)"
      ],
      "metadata": {
        "id": "a7iqZBQ-2Rio"
      },
      "execution_count": 101,
      "outputs": []
    },
    {
      "cell_type": "code",
      "source": [
        "roc_auc_score(y_train_sm,train_preds)"
      ],
      "metadata": {
        "colab": {
          "base_uri": "https://localhost:8080/"
        },
        "outputId": "81afcdf4-b5ff-451d-c330-80f4396f6656",
        "id": "EyelZGlI2Y4a"
      },
      "execution_count": 102,
      "outputs": [
        {
          "output_type": "execute_result",
          "data": {
            "text/plain": [
              "0.6424163235138846"
            ]
          },
          "metadata": {},
          "execution_count": 102
        }
      ]
    },
    {
      "cell_type": "code",
      "source": [
        "roc_auc_score(y_test_sm,test_preds)\n"
      ],
      "metadata": {
        "colab": {
          "base_uri": "https://localhost:8080/"
        },
        "outputId": "993914a0-ebc6-4cce-daec-7a6140173081",
        "id": "3uvN6ps02Y4b"
      },
      "execution_count": 95,
      "outputs": [
        {
          "output_type": "execute_result",
          "data": {
            "text/plain": [
              "0.6228223810543007"
            ]
          },
          "metadata": {},
          "execution_count": 95
        }
      ]
    },
    {
      "cell_type": "code",
      "source": [
        "confusion_matrix(y_train_sm,train_preds)"
      ],
      "metadata": {
        "colab": {
          "base_uri": "https://localhost:8080/"
        },
        "outputId": "3ba8ebf1-97d7-4da7-c5e0-38e0950ace86",
        "id": "z-U7Ts3l2Y4b"
      },
      "execution_count": 96,
      "outputs": [
        {
          "output_type": "execute_result",
          "data": {
            "text/plain": [
              "array([[1654,  656],\n",
              "       [ 990, 1306]])"
            ]
          },
          "metadata": {},
          "execution_count": 96
        }
      ]
    },
    {
      "cell_type": "code",
      "source": [
        "confusion_matrix(y_test_sm,test_preds)"
      ],
      "metadata": {
        "colab": {
          "base_uri": "https://localhost:8080/"
        },
        "outputId": "f87bace7-bbce-4555-d786-85f4d74b53c7",
        "id": "zSabqfeE2Y4b"
      },
      "execution_count": 97,
      "outputs": [
        {
          "output_type": "execute_result",
          "data": {
            "text/plain": [
              "array([[415, 154],\n",
              "       [282, 301]])"
            ]
          },
          "metadata": {},
          "execution_count": 97
        }
      ]
    },
    {
      "cell_type": "code",
      "source": [
        "print(classification_report(y_train_sm,train_preds))"
      ],
      "metadata": {
        "colab": {
          "base_uri": "https://localhost:8080/"
        },
        "outputId": "5663f91e-b1dc-4d3e-92e4-18e18abffb91",
        "id": "yTAcmKzL2Y4c"
      },
      "execution_count": 98,
      "outputs": [
        {
          "output_type": "stream",
          "name": "stdout",
          "text": [
            "              precision    recall  f1-score   support\n",
            "\n",
            "           0       0.63      0.72      0.67      2310\n",
            "           1       0.67      0.57      0.61      2296\n",
            "\n",
            "    accuracy                           0.64      4606\n",
            "   macro avg       0.65      0.64      0.64      4606\n",
            "weighted avg       0.65      0.64      0.64      4606\n",
            "\n"
          ]
        }
      ]
    },
    {
      "cell_type": "code",
      "source": [
        "print(classification_report(y_test_sm,test_preds))"
      ],
      "metadata": {
        "colab": {
          "base_uri": "https://localhost:8080/"
        },
        "outputId": "640b9c6b-db19-4286-8d18-880d89ffaee6",
        "id": "_6wOPKJQ2Y4c"
      },
      "execution_count": 99,
      "outputs": [
        {
          "output_type": "stream",
          "name": "stdout",
          "text": [
            "              precision    recall  f1-score   support\n",
            "\n",
            "           0       0.60      0.73      0.66       569\n",
            "           1       0.66      0.52      0.58       583\n",
            "\n",
            "    accuracy                           0.62      1152\n",
            "   macro avg       0.63      0.62      0.62      1152\n",
            "weighted avg       0.63      0.62      0.62      1152\n",
            "\n"
          ]
        }
      ]
    },
    {
      "cell_type": "code",
      "source": [
        ""
      ],
      "metadata": {
        "id": "V6yYjzED2fzz"
      },
      "execution_count": null,
      "outputs": []
    },
    {
      "cell_type": "markdown",
      "source": [
        ""
      ],
      "metadata": {
        "id": "1cR1yEq95lvC"
      }
    },
    {
      "cell_type": "markdown",
      "source": [
        "## Adaboost"
      ],
      "metadata": {
        "id": "Y9OZR7Km5nUw"
      }
    },
    {
      "cell_type": "code",
      "source": [
        "from sklearn.ensemble import AdaBoostClassifier\n",
        "from sklearn.model_selection import RepeatedStratifiedKFold\n",
        "grid={'n_estimators':[1000],'learning_rate':[1]}\n",
        "cv = RepeatedStratifiedKFold(n_splits=10, n_repeats=3, random_state=1)\n",
        "model = AdaBoostClassifier()\n",
        "ADA = GridSearchCV(estimator=model, param_grid=grid, n_jobs=-1, cv=cv, scoring='accuracy')\n"
      ],
      "metadata": {
        "id": "ALeifBfs5rmh"
      },
      "execution_count": null,
      "outputs": []
    },
    {
      "cell_type": "code",
      "source": [
        "ADA_model=ADA.fit(X_train_sm,y_train_sm)"
      ],
      "metadata": {
        "id": "uxni9i5W5yKx"
      },
      "execution_count": null,
      "outputs": []
    },
    {
      "cell_type": "code",
      "source": [
        "ADA_model.best_params_"
      ],
      "metadata": {
        "id": "7Yra5p41Hfy2"
      },
      "execution_count": null,
      "outputs": []
    },
    {
      "cell_type": "code",
      "source": [
        "train_preds =ADA_model.predict(X_train_sm)\n",
        "test_preds  =ADA_model.predict(X_test_sm)"
      ],
      "metadata": {
        "id": "hRlTmEnO59uf"
      },
      "execution_count": null,
      "outputs": []
    },
    {
      "cell_type": "code",
      "source": [
        "roc_auc_score(y_train_sm,train_preds)"
      ],
      "metadata": {
        "id": "CWmc1P5559ug"
      },
      "execution_count": null,
      "outputs": []
    },
    {
      "cell_type": "code",
      "source": [
        "roc_auc_score(y_test_sm,test_preds)\n"
      ],
      "metadata": {
        "id": "QvyuWuxP59ug"
      },
      "execution_count": null,
      "outputs": []
    },
    {
      "cell_type": "code",
      "source": [
        "confusion_matrix(y_train_sm,train_preds)"
      ],
      "metadata": {
        "id": "zd0EsRH-59ug"
      },
      "execution_count": null,
      "outputs": []
    },
    {
      "cell_type": "code",
      "source": [
        "confusion_matrix(y_test_sm,test_preds)"
      ],
      "metadata": {
        "id": "oPYeBQWx59uh"
      },
      "execution_count": null,
      "outputs": []
    },
    {
      "cell_type": "code",
      "source": [
        "print(classification_report(y_train_sm,train_preds))"
      ],
      "metadata": {
        "id": "3tcONlQF59uh"
      },
      "execution_count": null,
      "outputs": []
    },
    {
      "cell_type": "code",
      "source": [
        "print(classification_report(y_test_sm,test_preds))"
      ],
      "metadata": {
        "id": "Ri9KraiD59uh"
      },
      "execution_count": null,
      "outputs": []
    },
    {
      "cell_type": "code",
      "source": [
        ""
      ],
      "metadata": {
        "id": "nMXJRcGT6C7s"
      },
      "execution_count": null,
      "outputs": []
    },
    {
      "cell_type": "code",
      "source": [
        ""
      ],
      "metadata": {
        "id": "YibrAir86MEt"
      },
      "execution_count": null,
      "outputs": []
    },
    {
      "cell_type": "markdown",
      "source": [
        "## knn"
      ],
      "metadata": {
        "id": "-PjcY70FErZa"
      }
    },
    {
      "cell_type": "code",
      "source": [
        "from sklearn.neighbors import KNeighborsClassifier\n"
      ],
      "metadata": {
        "id": "9Mf7_zKCEsBE"
      },
      "execution_count": 118,
      "outputs": []
    },
    {
      "cell_type": "code",
      "source": [
        "knn = KNeighborsClassifier(n_neighbors=2)"
      ],
      "metadata": {
        "id": "iALfVbEEE2iU"
      },
      "execution_count": 146,
      "outputs": []
    },
    {
      "cell_type": "code",
      "source": [
        "knn.fit(X_train_sm,y_train_sm)"
      ],
      "metadata": {
        "colab": {
          "base_uri": "https://localhost:8080/"
        },
        "outputId": "d0895ef5-759e-4028-a63f-e8684b46c0ab",
        "id": "PPy8SMzyFaeq"
      },
      "execution_count": 147,
      "outputs": [
        {
          "output_type": "execute_result",
          "data": {
            "text/plain": [
              "KNeighborsClassifier(n_neighbors=2)"
            ]
          },
          "metadata": {},
          "execution_count": 147
        }
      ]
    },
    {
      "cell_type": "code",
      "source": [
        "train_preds =knn.predict(X_train_sm)\n",
        "test_preds  =knn.predict(X_test_sm)"
      ],
      "metadata": {
        "id": "WkNMYPczFaer"
      },
      "execution_count": 148,
      "outputs": []
    },
    {
      "cell_type": "code",
      "source": [
        "ROCAUC_train=roc_auc_score(y_train_sm,train_preds)\n",
        "ROCAUC_test=roc_auc_score(y_test_sm,test_preds)\n",
        "print('ROC_AUC score for train data: ',ROCAUC_train)\n",
        "print('ROC_AUC score for test data: ',ROCAUC_test)"
      ],
      "metadata": {
        "colab": {
          "base_uri": "https://localhost:8080/"
        },
        "outputId": "253b2f83-fcbf-4afe-e92f-50eae49435ce",
        "id": "yTjoaNMRFaer"
      },
      "execution_count": 149,
      "outputs": [
        {
          "output_type": "stream",
          "name": "stdout",
          "text": [
            "ROC_AUC score for train data:  0.9932491289198606\n",
            "ROC_AUC score for test data:  0.8889493469027242\n"
          ]
        }
      ]
    },
    {
      "cell_type": "code",
      "source": [
        "f1_train=f1_score(y_train_sm,train_preds)\n",
        "f1_test=f1_score(y_test_sm,test_preds)\n",
        "print('f1 score for train data: ',f1_train)\n",
        "print('f1 score for test data: ',f1_test)"
      ],
      "metadata": {
        "colab": {
          "base_uri": "https://localhost:8080/"
        },
        "outputId": "32d91085-6616-4aa5-c5ea-1644fe458cef",
        "id": "eUqNg0grFaer"
      },
      "execution_count": 150,
      "outputs": [
        {
          "output_type": "stream",
          "name": "stdout",
          "text": [
            "f1 score for train data:  0.9932032449024336\n",
            "f1 score for test data:  0.8976631748589846\n"
          ]
        }
      ]
    },
    {
      "cell_type": "code",
      "source": [
        "print('Confusion Matrix for Train\\n')\n",
        "print(confusion_matrix(y_train_sm,train_preds))\n",
        "print('\\nConfusion Matrix for Test\\n')\n",
        "print(confusion_matrix(y_test_sm,test_preds))"
      ],
      "metadata": {
        "colab": {
          "base_uri": "https://localhost:8080/"
        },
        "outputId": "3325f988-aff3-4bdf-acb8-120f5898546e",
        "id": "ry5Y4I_IFaer"
      },
      "execution_count": 151,
      "outputs": [
        {
          "output_type": "stream",
          "name": "stdout",
          "text": [
            "Confusion Matrix for Train\n",
            "\n",
            "[[2310    0]\n",
            " [  31 2265]]\n",
            "\n",
            "Confusion Matrix for Test\n",
            "\n",
            "[[468 101]\n",
            " [ 26 557]]\n"
          ]
        }
      ]
    },
    {
      "cell_type": "code",
      "source": [
        "print('classification_report for Train\\n')\n",
        "print(classification_report(y_train_sm,train_preds))\n",
        "print('\\nclassification_report for Test\\n')\n",
        "print(classification_report(y_test_sm,test_preds))"
      ],
      "metadata": {
        "colab": {
          "base_uri": "https://localhost:8080/"
        },
        "outputId": "5c6e7bf4-5d14-4d94-dc39-465f3ba6895a",
        "id": "MihqcD9XFaes"
      },
      "execution_count": 152,
      "outputs": [
        {
          "output_type": "stream",
          "name": "stdout",
          "text": [
            "classification_report for Train\n",
            "\n",
            "              precision    recall  f1-score   support\n",
            "\n",
            "           0       0.99      1.00      0.99      2310\n",
            "           1       1.00      0.99      0.99      2296\n",
            "\n",
            "    accuracy                           0.99      4606\n",
            "   macro avg       0.99      0.99      0.99      4606\n",
            "weighted avg       0.99      0.99      0.99      4606\n",
            "\n",
            "\n",
            "classification_report for Test\n",
            "\n",
            "              precision    recall  f1-score   support\n",
            "\n",
            "           0       0.95      0.82      0.88       569\n",
            "           1       0.85      0.96      0.90       583\n",
            "\n",
            "    accuracy                           0.89      1152\n",
            "   macro avg       0.90      0.89      0.89      1152\n",
            "weighted avg       0.90      0.89      0.89      1152\n",
            "\n"
          ]
        }
      ]
    },
    {
      "cell_type": "markdown",
      "source": [
        "## SVC"
      ],
      "metadata": {
        "id": "aUHe1ydhzp8J"
      }
    },
    {
      "cell_type": "code",
      "source": [
        "# from sklearn.svm import SVC\n",
        "# param_grid = {'C': [1, 10, 100,1000,10000,100000,1E6], 'gamma': [1,0.1]}\n",
        "# svc_model=GridSearchCV(SVC(kernel='rbf'),param_grid=param_grid,scoring='f1',cv=5)"
      ],
      "metadata": {
        "id": "CLIlGgWIpCQh"
      },
      "execution_count": 87,
      "outputs": []
    },
    {
      "cell_type": "code",
      "source": [
        "from sklearn.svm import SVC\n",
        "\n",
        "svc_model=SVC(C=10,gamma=1,kernel='rbf')\n"
      ],
      "metadata": {
        "id": "1OaayKghcCKE"
      },
      "execution_count": 154,
      "outputs": []
    },
    {
      "cell_type": "code",
      "source": [
        "svc_model.fit(X_train_sm,y_train_sm)"
      ],
      "metadata": {
        "colab": {
          "base_uri": "https://localhost:8080/"
        },
        "id": "OGtYHxg9nzxs",
        "outputId": "e407c2f9-6890-4372-ac60-6168e8a27662"
      },
      "execution_count": 155,
      "outputs": [
        {
          "output_type": "execute_result",
          "data": {
            "text/plain": [
              "SVC(C=10, gamma=1)"
            ]
          },
          "metadata": {},
          "execution_count": 155
        }
      ]
    },
    {
      "cell_type": "code",
      "source": [
        "train_preds =svc_model.predict(X_train_sm)\n",
        "test_preds  =svc_model.predict(X_test_sm)"
      ],
      "metadata": {
        "id": "8xb_PiHjleZC"
      },
      "execution_count": 156,
      "outputs": []
    },
    {
      "cell_type": "code",
      "source": [
        "ROCAUC_train_svc=roc_auc_score(y_train_sm,train_preds)\n",
        "ROCAUC_test_svc=roc_auc_score(y_test_sm,test_preds)\n",
        "print('ROC_AUC score for train data: ',ROCAUC_train_svc)\n",
        "print('ROC_AUC score for test data: ',ROCAUC_test_svc)"
      ],
      "metadata": {
        "colab": {
          "base_uri": "https://localhost:8080/"
        },
        "outputId": "ec73a0a4-ac5f-4f52-d3bb-c322ff9a6fca",
        "id": "FsENbZbjleZC"
      },
      "execution_count": 157,
      "outputs": [
        {
          "output_type": "stream",
          "name": "stdout",
          "text": [
            "ROC_AUC score for train data:  0.9997835497835498\n",
            "ROC_AUC score for test data:  0.9332448067236011\n"
          ]
        }
      ]
    },
    {
      "cell_type": "code",
      "source": [
        "f1_train_svc=f1_score(y_train_sm,train_preds)\n",
        "f1_test_svc=f1_score(y_test_sm,test_preds)\n",
        "print('f1 score for train data: ',f1_train_svc)\n",
        "print('f1 score for test data: ',f1_test_svc)"
      ],
      "metadata": {
        "colab": {
          "base_uri": "https://localhost:8080/"
        },
        "id": "jkON3KBGCVkt",
        "outputId": "e741b5a2-690c-4d30-946b-d885471b57c6"
      },
      "execution_count": 158,
      "outputs": [
        {
          "output_type": "stream",
          "name": "stdout",
          "text": [
            "f1 score for train data:  0.9997822773786197\n",
            "f1 score for test data:  0.9334485738980122\n"
          ]
        }
      ]
    },
    {
      "cell_type": "code",
      "source": [
        "print('Confusion Matrix for Train\\n')\n",
        "print(confusion_matrix(y_train_sm,train_preds))\n",
        "print('\\nConfusion Matrix for Test\\n')\n",
        "print(confusion_matrix(y_test_sm,test_preds))"
      ],
      "metadata": {
        "colab": {
          "base_uri": "https://localhost:8080/"
        },
        "outputId": "21e8bd22-f4b0-4657-d632-9318470e5b57",
        "id": "Cc3ckzYfleZD"
      },
      "execution_count": 159,
      "outputs": [
        {
          "output_type": "stream",
          "name": "stdout",
          "text": [
            "Confusion Matrix for Train\n",
            "\n",
            "[[2309    1]\n",
            " [   0 2296]]\n",
            "\n",
            "Confusion Matrix for Test\n",
            "\n",
            "[[535  34]\n",
            " [ 43 540]]\n"
          ]
        }
      ]
    },
    {
      "cell_type": "code",
      "source": [
        "print('classification_report for Train\\n')\n",
        "print(classification_report(y_train_sm,train_preds))\n",
        "print('\\nclassification_report for Test\\n')\n",
        "print(classification_report(y_test_sm,test_preds))"
      ],
      "metadata": {
        "colab": {
          "base_uri": "https://localhost:8080/"
        },
        "outputId": "e9828d7c-f71b-42a7-8f1e-6f9ba9f2e4c1",
        "id": "Tu6B_g0uleZD"
      },
      "execution_count": 160,
      "outputs": [
        {
          "output_type": "stream",
          "name": "stdout",
          "text": [
            "classification_report for Train\n",
            "\n",
            "              precision    recall  f1-score   support\n",
            "\n",
            "           0       1.00      1.00      1.00      2310\n",
            "           1       1.00      1.00      1.00      2296\n",
            "\n",
            "    accuracy                           1.00      4606\n",
            "   macro avg       1.00      1.00      1.00      4606\n",
            "weighted avg       1.00      1.00      1.00      4606\n",
            "\n",
            "\n",
            "classification_report for Test\n",
            "\n",
            "              precision    recall  f1-score   support\n",
            "\n",
            "           0       0.93      0.94      0.93       569\n",
            "           1       0.94      0.93      0.93       583\n",
            "\n",
            "    accuracy                           0.93      1152\n",
            "   macro avg       0.93      0.93      0.93      1152\n",
            "weighted avg       0.93      0.93      0.93      1152\n",
            "\n"
          ]
        }
      ]
    },
    {
      "cell_type": "markdown",
      "source": [
        "# Conclusion"
      ],
      "metadata": {
        "id": "jP0Upf4tCjWv"
      }
    },
    {
      "cell_type": "markdown",
      "source": [
        "### <b> SVC model produced best f1_score and rou_auc_score as mentioned below\n"
      ],
      "metadata": {
        "id": "ybDVRJUzDATH"
      }
    },
    {
      "cell_type": "code",
      "source": [
        "\n",
        "print('\\nROC_AUC score for train data: ',ROCAUC_train_svc)\n",
        "print('\\nROC_AUC score for test data: ',ROCAUC_test_svc)\n",
        "print('\\nf1 score for train data: ',f1_train_svc)\n",
        "print('\\nf1 score for test data: ',f1_test_svc)\n",
        "print('\\nConfusion Matrix for Train\\n')\n",
        "print(confusion_matrix(y_train_sm,train_preds))\n",
        "print('\\nConfusion Matrix for Test\\n')\n",
        "print(confusion_matrix(y_test_sm,test_preds))\n",
        "print('\\nclassification_report for Train\\n')\n",
        "print(classification_report(y_train_sm,train_preds))\n",
        "print('\\nclassification_report for Test\\n')\n",
        "print(classification_report(y_test_sm,test_preds))"
      ],
      "metadata": {
        "colab": {
          "base_uri": "https://localhost:8080/"
        },
        "outputId": "7184be9b-4ac0-4238-d75c-df084804e7ac",
        "id": "frI2TjZtCsuZ"
      },
      "execution_count": 161,
      "outputs": [
        {
          "output_type": "stream",
          "name": "stdout",
          "text": [
            "\n",
            "ROC_AUC score for train data:  0.9997835497835498\n",
            "\n",
            "ROC_AUC score for test data:  0.9332448067236011\n",
            "\n",
            "f1 score for train data:  0.9997822773786197\n",
            "\n",
            "f1 score for test data:  0.9334485738980122\n",
            "\n",
            "Confusion Matrix for Train\n",
            "\n",
            "[[2309    1]\n",
            " [   0 2296]]\n",
            "\n",
            "Confusion Matrix for Test\n",
            "\n",
            "[[535  34]\n",
            " [ 43 540]]\n",
            "\n",
            "classification_report for Train\n",
            "\n",
            "              precision    recall  f1-score   support\n",
            "\n",
            "           0       1.00      1.00      1.00      2310\n",
            "           1       1.00      1.00      1.00      2296\n",
            "\n",
            "    accuracy                           1.00      4606\n",
            "   macro avg       1.00      1.00      1.00      4606\n",
            "weighted avg       1.00      1.00      1.00      4606\n",
            "\n",
            "\n",
            "classification_report for Test\n",
            "\n",
            "              precision    recall  f1-score   support\n",
            "\n",
            "           0       0.93      0.94      0.93       569\n",
            "           1       0.94      0.93      0.93       583\n",
            "\n",
            "    accuracy                           0.93      1152\n",
            "   macro avg       0.93      0.93      0.93      1152\n",
            "weighted avg       0.93      0.93      0.93      1152\n",
            "\n"
          ]
        }
      ]
    },
    {
      "cell_type": "code",
      "source": [
        ""
      ],
      "metadata": {
        "id": "UJJv20wUDfjm"
      },
      "execution_count": 161,
      "outputs": []
    }
  ]
}